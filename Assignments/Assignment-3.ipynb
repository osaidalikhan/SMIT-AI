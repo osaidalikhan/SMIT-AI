{
 "cells": [
  {
   "cell_type": "markdown",
   "id": "69878a13-5c94-4f60-8296-426cca52e92e",
   "metadata": {},
   "source": [
    "# Question 1"
   ]
  },
  {
   "cell_type": "code",
   "execution_count": 5,
   "id": "748a1242-67d8-4a8e-81fe-a47a1d06a54d",
   "metadata": {},
   "outputs": [
    {
     "name": "stdin",
     "output_type": "stream",
     "text": [
      "Enter your total shopping price: 100.1\n"
     ]
    },
    {
     "name": "stdout",
     "output_type": "stream",
     "text": [
      "The total price after discount is: 90.08999999999999\n"
     ]
    }
   ],
   "source": [
    "Shopping_price = float(input(\"Enter your total shopping price:\"))\n",
    "Discounted_price = Shopping_price - (Shopping_price * 1/10)\n",
    "if Shopping_price > 100:\n",
    "    print(\"The total price after discount is:\",Discounted_price)\n",
    "else:\n",
    "    print(\"The total price is:\",Shopping_price)"
   ]
  },
  {
   "cell_type": "markdown",
   "id": "5c902d03-4dd0-4532-beb5-50ddd13d0bc2",
   "metadata": {},
   "source": [
    "# Question 2"
   ]
  },
  {
   "cell_type": "code",
   "execution_count": 9,
   "id": "6e73854d-abe7-46eb-b8b9-196b86fccd3d",
   "metadata": {},
   "outputs": [
    {
     "name": "stdin",
     "output_type": "stream",
     "text": [
      "Enter your total shopping price: 100\n",
      "Enter number of items: 6\n"
     ]
    },
    {
     "name": "stdout",
     "output_type": "stream",
     "text": [
      "The total price after discount is: 85.0\n"
     ]
    }
   ],
   "source": [
    "Shopping_price = float(input(\"Enter your total shopping price:\"))\n",
    "Items = int(input(\"Enter number of items:\"))\n",
    "Discounted_price = Shopping_price - (Shopping_price * 3/20)\n",
    "if Items > 5:\n",
    "    print(\"The total price after discount is:\",Discounted_price)\n",
    "else:\n",
    "    print(\"The total price is:\",Shopping_price)"
   ]
  },
  {
   "cell_type": "markdown",
   "id": "cee4cf97-010c-4027-8916-00168c86724c",
   "metadata": {},
   "source": [
    "# Question 3"
   ]
  },
  {
   "cell_type": "code",
   "execution_count": 11,
   "id": "fcd32478-4c24-4d7f-8bd4-6ec243d15cc6",
   "metadata": {},
   "outputs": [],
   "source": [
    "member_list = ['ali','hassan', 'rashid', 'kamran', 'faisal', 'ahmed', 'ashraf']"
   ]
  },
  {
   "cell_type": "code",
   "execution_count": 17,
   "id": "730845b1-0e70-4934-978b-b8952dec8ea2",
   "metadata": {},
   "outputs": [
    {
     "name": "stdin",
     "output_type": "stream",
     "text": [
      "Please tell me your name: ALI\n",
      "Enter your total shopping price: 200\n"
     ]
    },
    {
     "name": "stdout",
     "output_type": "stream",
     "text": [
      "Your total price after discount will be: 160.0\n"
     ]
    }
   ],
   "source": [
    "member_name = input(\"Please tell me your name:\").lower()\n",
    "Shopping_price = float(input(\"Enter your total shopping price:\"))\n",
    "Five_discount = Shopping_price - (Shopping_price * 1/20)\n",
    "Twenty_discount = Shopping_price - (Shopping_price * 1/5)\n",
    "if member_name in member_list:\n",
    "    print(\"Your total price after discount will be:\",Twenty_discount)\n",
    "else:\n",
    "    print(\"Your total price after discount will be:\",Five_discount)\n"
   ]
  },
  {
   "cell_type": "markdown",
   "id": "c5da301d-d8d8-4655-bf55-bb4306399156",
   "metadata": {},
   "source": [
    "# Question 4"
   ]
  },
  {
   "cell_type": "code",
   "execution_count": 23,
   "id": "fa0117ff-b908-4169-a397-4e12b2a7ee84",
   "metadata": {},
   "outputs": [],
   "source": [
    "Holiday = ['saturday','sunday']"
   ]
  },
  {
   "cell_type": "code",
   "execution_count": 25,
   "id": "b783462a-4055-446d-808f-3dc071ce6df8",
   "metadata": {},
   "outputs": [
    {
     "name": "stdin",
     "output_type": "stream",
     "text": [
      "Please tell me what's the day today: saturday\n",
      "Enter your total shopping price: 500\n"
     ]
    },
    {
     "name": "stdout",
     "output_type": "stream",
     "text": [
      "Your total price after discount will be: 375.0\n"
     ]
    }
   ],
   "source": [
    "Day = input(\"Please tell me what's the day today:\").lower()\n",
    "Shopping_price = float(input(\"Enter your total shopping price:\"))\n",
    "Ten_discount = Shopping_price - (Shopping_price * 1/10)\n",
    "TwentyFive_discount = Shopping_price - (Shopping_price * 1/4)\n",
    "if Day in Holiday:\n",
    "    print(\"Your total price after discount will be:\",TwentyFive_discount)\n",
    "else:\n",
    "    print(\"Your total price after discount will be:\",Ten_discount)"
   ]
  },
  {
   "cell_type": "markdown",
   "id": "5da08be6-1631-438e-a94f-5e47d1783133",
   "metadata": {},
   "source": [
    "# Question 5"
   ]
  },
  {
   "cell_type": "code",
   "execution_count": 35,
   "id": "43930374-341e-402f-848a-491c88f602b9",
   "metadata": {},
   "outputs": [
    {
     "name": "stdin",
     "output_type": "stream",
     "text": [
      "Enter total number of items: 15\n"
     ]
    },
    {
     "name": "stdout",
     "output_type": "stream",
     "text": [
      "The total number of items you have to pay for is: 15\n"
     ]
    }
   ],
   "source": [
    "Items = int(input(\"Enter total number of items:\"))\n",
    "Discounted_items = Items / 2\n",
    "if Items % 2 == 0:\n",
    "    print(\"The total number of items you have to pay for is:\",Discounted_items)\n",
    "else:\n",
    "    print(\"The total number of items you have to pay for is:\",Items)\n"
   ]
  },
  {
   "cell_type": "markdown",
   "id": "1f18192a-59e2-4bec-9744-7ffb69b17264",
   "metadata": {},
   "source": [
    "# Question 6"
   ]
  },
  {
   "cell_type": "code",
   "execution_count": 41,
   "id": "55e5a257-6d69-469f-922d-c907d72139f7",
   "metadata": {},
   "outputs": [
    {
     "name": "stdin",
     "output_type": "stream",
     "text": [
      "Enter price of item: 501\n"
     ]
    },
    {
     "name": "stdout",
     "output_type": "stream",
     "text": [
      "The Tax is: 100.2\n"
     ]
    }
   ],
   "source": [
    "Item_price = float(input(\"Enter price of item:\"))\n",
    "Luxury_tax = (Item_price * 1/5)\n",
    "Simple_tax = (Item_price * 8/100)\n",
    "if Item_price > 500:\n",
    "    print(\"The Tax is:\",Luxury_tax)\n",
    "else:\n",
    "    print(\"The Tax is:\",Simple_tax)"
   ]
  },
  {
   "cell_type": "markdown",
   "id": "d49e66e3-3e04-4afe-b1e2-13a0c09fca2a",
   "metadata": {},
   "source": [
    "# Question 7"
   ]
  },
  {
   "cell_type": "code",
   "execution_count": 55,
   "id": "0b6492e1-000d-432a-8d86-0d2cfba0781c",
   "metadata": {},
   "outputs": [
    {
     "name": "stdin",
     "output_type": "stream",
     "text": [
      "Enter your salary: 51000\n"
     ]
    },
    {
     "name": "stdout",
     "output_type": "stream",
     "text": [
      "The Tax is: 10200.0\n"
     ]
    }
   ],
   "source": [
    "Salary = float(input(\"Enter your salary:\"))\n",
    "Tax_1 = (Salary * 1/5)\n",
    "Tax_2 = (Salary * 1/10)\n",
    "if Salary > 50000:\n",
    "    print(\"The Tax is:\",Tax_1)\n",
    "else:\n",
    "    print(\"The Tax is:\",Tax_2)"
   ]
  },
  {
   "cell_type": "markdown",
   "id": "3bde33a8-a382-40d3-b923-b8496137ae0e",
   "metadata": {},
   "source": [
    "# Question 8"
   ]
  },
  {
   "cell_type": "code",
   "execution_count": 77,
   "id": "41312edc-bdf8-49a3-a5e7-a7024b0348ad",
   "metadata": {},
   "outputs": [
    {
     "name": "stdin",
     "output_type": "stream",
     "text": [
      "Enter your salary: 99000\n"
     ]
    },
    {
     "name": "stdout",
     "output_type": "stream",
     "text": [
      "You lie in Medium Tax!\n"
     ]
    }
   ],
   "source": [
    "Income = float(input(\"Enter your salary:\"))\n",
    "if Income < 30000:\n",
    "    print(\"You lie in Low Tax!\")\n",
    "elif Income < 100000:\n",
    "    print(\"You lie in Medium Tax!\")\n",
    "else:\n",
    "    print(\"You lie in High Tax!\")"
   ]
  },
  {
   "cell_type": "markdown",
   "id": "fb7bfd9e-91d4-4e02-ab87-1003a8e4e746",
   "metadata": {},
   "source": [
    "# Question 9"
   ]
  },
  {
   "cell_type": "code",
   "execution_count": 83,
   "id": "acfb381b-d95f-4cec-953a-673408b63069",
   "metadata": {},
   "outputs": [],
   "source": [
    "Essential = ['butter','bread', 'milk', 'vegetables', 'fruits', 'clothes', 'house']"
   ]
  },
  {
   "cell_type": "code",
   "execution_count": 85,
   "id": "29f26a38-1a05-4faf-a832-10c0e8c1e53c",
   "metadata": {},
   "outputs": [
    {
     "name": "stdin",
     "output_type": "stream",
     "text": [
      "Please tell me your item: Butter\n",
      "Enter price of item: 60\n"
     ]
    },
    {
     "name": "stdout",
     "output_type": "stream",
     "text": [
      "Your total price after VAT will be: 63.0\n"
     ]
    }
   ],
   "source": [
    "Item = input(\"Please tell me your item:\").lower()\n",
    "Shopping_price = float(input(\"Enter price of item:\"))\n",
    "Five_tax = Shopping_price + (Shopping_price * 1/20)\n",
    "Twelve_tax = Shopping_price + (Shopping_price * 12/100)\n",
    "if Item in Essential:\n",
    "    print(\"Your total price after VAT will be:\",Five_tax)\n",
    "else:\n",
    "    print(\"Your total price after VAT will be:\",Twelve_tax)"
   ]
  },
  {
   "cell_type": "markdown",
   "id": "dfd915a9-1544-4203-9dcd-79be54daa12a",
   "metadata": {},
   "source": [
    "# Question 10"
   ]
  },
  {
   "cell_type": "code",
   "execution_count": 87,
   "id": "c5492a68-c9a8-4003-a307-11d39c7ec66a",
   "metadata": {},
   "outputs": [],
   "source": [
    "TaxFreeDay = ['saturday','sunday']"
   ]
  },
  {
   "cell_type": "code",
   "execution_count": 89,
   "id": "5a8c874b-49b8-4298-bb85-b5e3da31e55e",
   "metadata": {},
   "outputs": [
    {
     "name": "stdin",
     "output_type": "stream",
     "text": [
      "Please tell me what's the day today: Sunady\n",
      "Enter price of item: 55\n"
     ]
    },
    {
     "name": "stdout",
     "output_type": "stream",
     "text": [
      "Your total price will be: 58.85\n"
     ]
    }
   ],
   "source": [
    "Day = input(\"Please tell me what's the day today:\").lower()\n",
    "Shopping_price = float(input(\"Enter price of item:\"))\n",
    "Tax = Shopping_price + (Shopping_price * 7/100)\n",
    "if Day in TaxFreeDay:\n",
    "    print(\"Your total price will be:\",Shopping_price)\n",
    "else:\n",
    "    print(\"Your total price will be:\",Tax)"
   ]
  },
  {
   "cell_type": "markdown",
   "id": "c3e169ce-2b9f-4370-a725-12f7b4665635",
   "metadata": {},
   "source": [
    "# Question 11"
   ]
  },
  {
   "cell_type": "code",
   "execution_count": 93,
   "id": "ea7883f5-cd59-4325-927b-fec3037c6c59",
   "metadata": {},
   "outputs": [
    {
     "name": "stdin",
     "output_type": "stream",
     "text": [
      "Enter your total purchase: 50\n"
     ]
    },
    {
     "name": "stdout",
     "output_type": "stream",
     "text": [
      "The Total Bill with shipping is: 55.0\n"
     ]
    }
   ],
   "source": [
    "Bill = float(input(\"Enter your total purchase:\"))\n",
    "BillWithShipping = Bill + 5\n",
    "if Bill > 50:\n",
    "    print(\"The Total Bill with no shipping is:\",Bill)\n",
    "else:\n",
    "    print(\"The Total Bill with shipping is:\",BillWithShipping)"
   ]
  },
  {
   "cell_type": "markdown",
   "id": "8562f844-ec47-47a7-96c6-2ea636fb5e41",
   "metadata": {},
   "source": [
    "# Question 12"
   ]
  },
  {
   "cell_type": "code",
   "execution_count": 1,
   "id": "dc00e567-72ba-433e-b8a9-7516d51e1aef",
   "metadata": {},
   "outputs": [],
   "source": [
    "DiscountCode = ['DISCOUNT10']"
   ]
  },
  {
   "cell_type": "code",
   "execution_count": 7,
   "id": "12fb2a50-65c7-4a21-a111-ef2b124b7c3d",
   "metadata": {},
   "outputs": [
    {
     "name": "stdin",
     "output_type": "stream",
     "text": [
      "Enter your total purchase: 500\n",
      "Enter Discount Code: discount10\n"
     ]
    },
    {
     "name": "stdout",
     "output_type": "stream",
     "text": [
      "Your total bill after discount is: 450.0\n"
     ]
    }
   ],
   "source": [
    "Bill = float(input(\"Enter your total purchase:\"))\n",
    "Code = input(\"Enter Discount Code:\").upper()\n",
    "Discounted = Bill - (Bill * 1/10)\n",
    "if Code in DiscountCode:\n",
    "    print(\"Your total bill after discount is:\",Discounted)\n",
    "else:\n",
    "    print(\"Your total bill is:\",Bill)"
   ]
  },
  {
   "cell_type": "markdown",
   "id": "140c0783-616c-40fe-bf0c-bcb3c6869707",
   "metadata": {},
   "source": [
    "# Question 13"
   ]
  },
  {
   "cell_type": "code",
   "execution_count": 143,
   "id": "0be8b017-4ecb-4867-9e80-d8a1092b4f24",
   "metadata": {},
   "outputs": [
    {
     "name": "stdin",
     "output_type": "stream",
     "text": [
      "Enter the price: 120\n"
     ]
    },
    {
     "name": "stdout",
     "output_type": "stream",
     "text": [
      "The total price is: 96.0\n"
     ]
    }
   ],
   "source": [
    "Price = float(input(\"Enter the price:\"))\n",
    "Ten_Discount = Price - (Price*1/10)\n",
    "Twenty_Discount = Price - (Price*1/5)\n",
    "if Price < 51:\n",
    "    print(\"The total price is:\",Price)\n",
    "elif Price < 101:\n",
    "    print(\"The total price is:\",Ten_Discount)\n",
    "else:\n",
    "    print(\"The total price is:\",Twenty_Discount)"
   ]
  },
  {
   "cell_type": "markdown",
   "id": "40a06406-358c-41ac-b4b3-0c083a9e7117",
   "metadata": {},
   "source": [
    "# Question 14"
   ]
  },
  {
   "cell_type": "code",
   "execution_count": 147,
   "id": "f6dcc3c2-7ec1-43ff-81b3-4601625507a8",
   "metadata": {},
   "outputs": [
    {
     "name": "stdin",
     "output_type": "stream",
     "text": [
      "Enter your total purchase: 19\n"
     ]
    },
    {
     "name": "stdout",
     "output_type": "stream",
     "text": [
      "Minimum purchase of 20 is required!\n"
     ]
    }
   ],
   "source": [
    "Price = float(input(\"Enter your total purchase:\"))\n",
    "if Price < 20:\n",
    "    print(\"Minimum purchase of 20 is required!\")\n",
    "else:\n",
    "    print(\"The total price is:\",Price)"
   ]
  },
  {
   "cell_type": "markdown",
   "id": "e62fbe17-6112-429a-a6e2-cd31ae78b41d",
   "metadata": {},
   "source": [
    "# Question 15"
   ]
  },
  {
   "cell_type": "code",
   "execution_count": 149,
   "id": "6fe11729-28f2-4918-a3aa-1b3431ca650e",
   "metadata": {},
   "outputs": [],
   "source": [
    "LoyalMembers = ['ali','hassan', 'rashid', 'kamran', 'faisal', 'ahmed', 'ashraf']"
   ]
  },
  {
   "cell_type": "code",
   "execution_count": 155,
   "id": "bf121558-8716-406a-84b5-8b5c4509e9c8",
   "metadata": {},
   "outputs": [
    {
     "name": "stdin",
     "output_type": "stream",
     "text": [
      "Enter your total purchase: 55\n",
      "Please tell me your name:  Ahmed\n"
     ]
    },
    {
     "name": "stdout",
     "output_type": "stream",
     "text": [
      "Congrats you earn double loyalty points for your purchase!\n"
     ]
    }
   ],
   "source": [
    "Purchase = float(input(\"Enter your total purchase:\"))\n",
    "Member = input(\"Please tell me your name: \").lower()\n",
    "if Member in LoyalMembers:\n",
    "    print(\"Congrats you earn double loyalty points for your purchase!\")\n",
    "else:\n",
    "    print(\"You earn standard points for your purchase!\")"
   ]
  },
  {
   "cell_type": "markdown",
   "id": "47ba6fca-6f2d-4d14-a540-16e890e254e4",
   "metadata": {},
   "source": [
    "# Question 16"
   ]
  },
  {
   "cell_type": "code",
   "execution_count": 161,
   "id": "c26a3e43-9ada-4bac-8d1a-8aad9f6cbefc",
   "metadata": {},
   "outputs": [
    {
     "name": "stdin",
     "output_type": "stream",
     "text": [
      "Enter your ticket price: 20000\n",
      "Enter diastance you are travelling in (miles): 550\n"
     ]
    },
    {
     "name": "stdout",
     "output_type": "stream",
     "text": [
      "Your ticket price is: 16000.0\n"
     ]
    }
   ],
   "source": [
    "Price = float(input(\"Enter your ticket price:\"))\n",
    "Discount = Price - (Price*1/5)\n",
    "Distance = float(input(\"Enter diastance you are travelling in (miles):\"))\n",
    "if Distance > 500:\n",
    "    print(\"Your ticket price is:\",Discount)\n",
    "else:\n",
    "    print(\"Your ticket price is:\",Price)"
   ]
  },
  {
   "cell_type": "markdown",
   "id": "34ecb26f-f4d5-4d7a-91b5-944cd88a1231",
   "metadata": {},
   "source": [
    "# Question 17"
   ]
  },
  {
   "cell_type": "code",
   "execution_count": 167,
   "id": "5a8e6c53-551c-448a-bf86-06f35e355099",
   "metadata": {},
   "outputs": [
    {
     "name": "stdin",
     "output_type": "stream",
     "text": [
      "Enter your ticket price: 50\n",
      "Enter your age: 61\n"
     ]
    },
    {
     "name": "stdout",
     "output_type": "stream",
     "text": [
      "Your ticket price is: 42.5\n"
     ]
    }
   ],
   "source": [
    "Price = float(input(\"Enter your ticket price:\"))\n",
    "Age = float(input(\"Enter your age:\"))\n",
    "Discount = Price - (Price * 3/20)\n",
    "if Age<500 or Age>60:\n",
    "    print(\"Your ticket price is:\",Discount)\n",
    "else:\n",
    "    print(\"Your ticket price is:\",Price)"
   ]
  },
  {
   "cell_type": "markdown",
   "id": "9eb0fd70-d0c8-4240-82d9-448ea45557cb",
   "metadata": {},
   "source": [
    "# Question 18"
   ]
  },
  {
   "cell_type": "code",
   "execution_count": 175,
   "id": "65ab525a-21f3-4365-b628-29183a72676e",
   "metadata": {},
   "outputs": [],
   "source": [
    "WeekEnd = ['saturday','sunday']"
   ]
  },
  {
   "cell_type": "code",
   "execution_count": 179,
   "id": "9c40266d-0b12-45df-b6f3-7ce984500817",
   "metadata": {},
   "outputs": [
    {
     "name": "stdin",
     "output_type": "stream",
     "text": [
      "Please tell me what's the day today: sunday\n",
      "Enter the price: 60\n"
     ]
    },
    {
     "name": "stdout",
     "output_type": "stream",
     "text": [
      "Your total price will be: 66.0\n"
     ]
    }
   ],
   "source": [
    "Day = input(\"Please tell me what's the day today:\").lower()\n",
    "Price = float(input(\"Enter the price:\"))\n",
    "Surcharge = Price + (Price * 1/10)\n",
    "if Day in WeekEnd:\n",
    "    print(\"Your total price will be:\",Surcharge)\n",
    "else:\n",
    "    print(\"Your total price will be:\",Price)"
   ]
  },
  {
   "cell_type": "markdown",
   "id": "66ba1cba-68eb-41a0-8203-ba873c1bc3c5",
   "metadata": {},
   "source": [
    "# Question 19"
   ]
  },
  {
   "cell_type": "code",
   "execution_count": 187,
   "id": "4407c3b0-bac6-4ea9-ae13-3df09f38e1db",
   "metadata": {},
   "outputs": [
    {
     "name": "stdin",
     "output_type": "stream",
     "text": [
      "Enter your total weight in(kg): 25\n"
     ]
    },
    {
     "name": "stdout",
     "output_type": "stream",
     "text": [
      "Your Extra Fees will be: 50.0\n"
     ]
    }
   ],
   "source": [
    "Baggage = float(input(\"Enter your total weight in(kg):\"))\n",
    "ExtraBaggage = Baggage - 20\n",
    "ExtraFees = ExtraBaggage * 10\n",
    "if Baggage > 20:\n",
    "    print(\"Your Extra Fees will be:\",ExtraFees)\n",
    "else:\n",
    "    print(\"No Extra Fees!\")"
   ]
  },
  {
   "cell_type": "markdown",
   "id": "153c2fbd-6a49-4fda-98ff-0bd820f46cba",
   "metadata": {},
   "source": [
    "# Question 20"
   ]
  },
  {
   "cell_type": "code",
   "execution_count": 191,
   "id": "c38f6ae1-2e86-4b4d-8340-5358392d80ec",
   "metadata": {},
   "outputs": [
    {
     "name": "stdin",
     "output_type": "stream",
     "text": [
      "Enter your ticket price: 500\n",
      "Enter how many before you have booked: 31\n"
     ]
    },
    {
     "name": "stdout",
     "output_type": "stream",
     "text": [
      "Your ticket price is: 450.0\n"
     ]
    }
   ],
   "source": [
    "Price = float(input(\"Enter your ticket price:\"))\n",
    "Days = int(input(\"Enter how many before you have booked:\"))\n",
    "Discount = Price - (Price * 1/10)\n",
    "if Days > 30:\n",
    "    print(\"Your ticket price is:\",Discount)\n",
    "else:\n",
    "    print(\"Your ticket price is:\",Price)"
   ]
  },
  {
   "cell_type": "markdown",
   "id": "e0ecc50d-27d6-4ac5-832c-35204f9697e6",
   "metadata": {},
   "source": [
    "# Question 21"
   ]
  },
  {
   "cell_type": "code",
   "execution_count": 195,
   "id": "f5d2a7e7-f075-4649-bf01-cd23791000b7",
   "metadata": {},
   "outputs": [
    {
     "name": "stdin",
     "output_type": "stream",
     "text": [
      "Enter your marks: 51\n"
     ]
    },
    {
     "name": "stdout",
     "output_type": "stream",
     "text": [
      "Pass!\n"
     ]
    }
   ],
   "source": [
    "Marks = float(input(\"Enter your marks:\"))\n",
    "if Marks >=50:\n",
    "    print(\"Pass!\")\n",
    "else:\n",
    "    print(\"Fail\")"
   ]
  },
  {
   "cell_type": "markdown",
   "id": "a49bd95b-a563-4e05-abd9-396e0bb75235",
   "metadata": {},
   "source": [
    "# Question 22"
   ]
  },
  {
   "cell_type": "code",
   "execution_count": 211,
   "id": "1b8a3f37-e8a3-4dcc-9d14-3730448dec11",
   "metadata": {},
   "outputs": [
    {
     "name": "stdin",
     "output_type": "stream",
     "text": [
      "Enter your marks: 75\n"
     ]
    },
    {
     "name": "stdout",
     "output_type": "stream",
     "text": [
      "B\n"
     ]
    }
   ],
   "source": [
    "Marks = float(input(\"Enter your marks:\"))\n",
    "if Marks < 50:\n",
    "    print(\"F\")\n",
    "elif Marks < 75:\n",
    "    print(\"C\")\n",
    "elif Marks < 90:\n",
    "    print(\"B\")\n",
    "else:\n",
    "    print(\"A\")\n",
    "    "
   ]
  },
  {
   "cell_type": "markdown",
   "id": "8161bb8a-d3c1-476d-aa60-648050d59bd9",
   "metadata": {},
   "source": [
    "# Question 23"
   ]
  },
  {
   "cell_type": "code",
   "execution_count": 221,
   "id": "d578dd40-acfc-44c9-8b68-5182b6afc7e2",
   "metadata": {},
   "outputs": [
    {
     "name": "stdin",
     "output_type": "stream",
     "text": [
      "Enter your total score: 61\n",
      "Enter total number of assignmnts you have completed : 10\n"
     ]
    },
    {
     "name": "stdout",
     "output_type": "stream",
     "text": [
      "Your total score is: 66.0\n"
     ]
    }
   ],
   "source": [
    "Score = float(input(\"Enter your total score:\"))\n",
    "Assignments = int(input(\"Enter total number of assignmnts you have completed :\"))\n",
    "BonusScore = Score + 5\n",
    "if Assignments >= 10:\n",
    "    print(\"Your total score is:\",BonusScore)\n",
    "else:\n",
    "    print(\"Your total score is:\",Score)"
   ]
  },
  {
   "cell_type": "markdown",
   "id": "f7df6368-c303-4dc3-a1e7-d7b47ba33b51",
   "metadata": {},
   "source": [
    "# Question 24"
   ]
  },
  {
   "cell_type": "code",
   "execution_count": 227,
   "id": "de9cfc6c-adc1-45de-bd27-3378d30e46e0",
   "metadata": {},
   "outputs": [
    {
     "name": "stdin",
     "output_type": "stream",
     "text": [
      "Enter your total attendance in (%): 74.9999\n"
     ]
    },
    {
     "name": "stdout",
     "output_type": "stream",
     "text": [
      "You are not eligible to take the exam!\n"
     ]
    }
   ],
   "source": [
    "Attendance = float(input(\"Enter your total attendance in (%):\"))\n",
    "if Attendance >=75:\n",
    "    print(\"You are eligible to  take the exam!\")\n",
    "else:\n",
    "    print(\"You are not eligible to take the exam!\")"
   ]
  },
  {
   "cell_type": "markdown",
   "id": "31ddb9bc-cbae-4ff7-a1a4-1dc6d6ce1605",
   "metadata": {},
   "source": [
    "# Question 25"
   ]
  },
  {
   "cell_type": "code",
   "execution_count": null,
   "id": "b8dc4499-a852-4762-be49-a3329950583d",
   "metadata": {},
   "outputs": [
    {
     "name": "stdin",
     "output_type": "stream",
     "text": [
      "Enter your family income in ($):$ 500\n"
     ]
    }
   ],
   "source": [
    "Income = float(input(\"Enter your family income in ($):$\")).dollar()\n",
    "Grade = str(input(\"Enter your grade:\"))\n",
    "if (Income < 30000 and Grade == \"A\"):\n",
    "    print(\"You are eligible for scolarship!\")\n",
    "else:\n",
    "    print(\"You are not eligible for scolarship!\")"
   ]
  },
  {
   "cell_type": "code",
   "execution_count": null,
   "id": "49aaca7b-0b47-4297-aa76-13c021921099",
   "metadata": {},
   "outputs": [],
   "source": []
  }
 ],
 "metadata": {
  "kernelspec": {
   "display_name": "Python 3 (ipykernel)",
   "language": "python",
   "name": "python3"
  },
  "language_info": {
   "codemirror_mode": {
    "name": "ipython",
    "version": 3
   },
   "file_extension": ".py",
   "mimetype": "text/x-python",
   "name": "python",
   "nbconvert_exporter": "python",
   "pygments_lexer": "ipython3",
   "version": "3.12.7"
  }
 },
 "nbformat": 4,
 "nbformat_minor": 5
}
