{
 "cells": [
  {
   "cell_type": "markdown",
   "id": "d71f39cd-06cf-4dea-892d-6c518b4174a1",
   "metadata": {},
   "source": [
    "# 1. Write a Python function to find the maximum of three numbers"
   ]
  },
  {
   "cell_type": "code",
   "execution_count": 2,
   "id": "9f8bbfdb-3130-4854-980b-f2f884075c43",
   "metadata": {},
   "outputs": [
    {
     "name": "stdout",
     "output_type": "stream",
     "text": [
      "48\n"
     ]
    }
   ],
   "source": [
    "def find_max(lst):\n",
    "    if len(lst)!=0:        \n",
    "        max_num = lst[0]\n",
    "        for a in lst:\n",
    "            if a > max_num:\n",
    "                max_num = a\n",
    "        print(max_num)\n",
    "    else:\n",
    "        print(\"Empty list\")\n",
    "find_max([32,25,48])"
   ]
  },
  {
   "cell_type": "markdown",
   "id": "81edb186-429d-4927-a5e6-7afb38b2af47",
   "metadata": {},
   "source": [
    "# 2. Write a Python function to sum all the numbers in a list.\n",
    "#### Sample List : (8, 2, 3, 0, 7)\n",
    "#### Expected Output : 20 \n"
   ]
  },
  {
   "cell_type": "code",
   "execution_count": 4,
   "id": "631cc0a9-c543-461a-a36c-b4bef2096c0f",
   "metadata": {},
   "outputs": [
    {
     "name": "stdout",
     "output_type": "stream",
     "text": [
      "20\n"
     ]
    }
   ],
   "source": [
    "def sum_list(lst):\n",
    "    print(sum(lst))\n",
    "\n",
    "sum_list([8, 2, 3, 0, 7])"
   ]
  },
  {
   "cell_type": "markdown",
   "id": "88e2cce9-75d0-4248-a6a7-c9433b15f6b1",
   "metadata": {},
   "source": [
    "# 3. Write a Python function to multiply all the numbers in a list.\n",
    "#### Sample List : (8, 2, 3, -1, 7)\n",
    "#### Expected Output : -336 \n"
   ]
  },
  {
   "cell_type": "code",
   "execution_count": 6,
   "id": "5d15c3ea-03cb-4b73-bd43-5c11ba494dac",
   "metadata": {},
   "outputs": [
    {
     "name": "stdout",
     "output_type": "stream",
     "text": [
      "-336\n"
     ]
    }
   ],
   "source": [
    "def multiply_numbers(a,b,*nums):\n",
    "    tm = 1\n",
    "    for x in nums:\n",
    "        tm*=x\n",
    "    m = tm * a * b\n",
    "    print(m)\n",
    "    \n",
    "multiply_numbers(8,2,3,-1,7)"
   ]
  },
  {
   "cell_type": "markdown",
   "id": "71776c09-3a56-4b34-8a28-4ab0d020cda7",
   "metadata": {},
   "source": [
    "# 4. Write a Python program to reverse a string.\n",
    "#### Sample String : \"1234abcd\"\n",
    "#### Expected Output : \"dcba4321\""
   ]
  },
  {
   "cell_type": "code",
   "execution_count": 8,
   "id": "acce5c5e-c637-4b07-ac60-90b5b73de58c",
   "metadata": {},
   "outputs": [
    {
     "name": "stdin",
     "output_type": "stream",
     "text": [
      "Enter a string: 1234abcd\n"
     ]
    },
    {
     "data": {
      "text/plain": [
       "'dcba4321'"
      ]
     },
     "execution_count": 8,
     "metadata": {},
     "output_type": "execute_result"
    }
   ],
   "source": [
    "string = str(input(\"Enter a string:\"))\n",
    "reverse_string = string[::-1]\n",
    "reverse_string"
   ]
  },
  {
   "cell_type": "markdown",
   "id": "fdfbbf3f-6c54-4523-bf03-c373c639407f",
   "metadata": {},
   "source": [
    "# 5. Write a Python function to calculate the factorial of a number (a non-negative integer). The function accepts the number as an argument. "
   ]
  },
  {
   "cell_type": "code",
   "execution_count": 5,
   "id": "24a3deb8-0eda-43f2-b8f8-ded71f4b7c7d",
   "metadata": {},
   "outputs": [],
   "source": [
    "def factorial():\n",
    "    number = int(input(\"Enter a number:\"))\n",
    "    f = 1\n",
    "    if number < 0:\n",
    "        print(\"Please enter a non-negative number!\")\n",
    "    elif number == 1:\n",
    "        return 1\n",
    "    else:\n",
    "        for a in range(2,1+number):     #taking 2 as to take number from 2\n",
    "            f *= a \n",
    "        print(f\"The factorial of {number} is {f}\")"
   ]
  },
  {
   "cell_type": "code",
   "execution_count": 9,
   "id": "9c7265a9-b419-44f1-a418-fe9debaf9464",
   "metadata": {},
   "outputs": [
    {
     "name": "stdin",
     "output_type": "stream",
     "text": [
      "Enter a number: 4\n"
     ]
    },
    {
     "name": "stdout",
     "output_type": "stream",
     "text": [
      "The factorial of 4 is 24\n"
     ]
    }
   ],
   "source": [
    "factorial()"
   ]
  },
  {
   "cell_type": "markdown",
   "id": "28924bc6-a44e-4a91-a9bb-c2e47ac505b2",
   "metadata": {},
   "source": [
    "# 6. Write a Python function to check whether a number falls within a given range. "
   ]
  },
  {
   "cell_type": "code",
   "execution_count": 75,
   "id": "9c008cc2-edf5-446d-8fe6-da287f6e8723",
   "metadata": {},
   "outputs": [
    {
     "name": "stdin",
     "output_type": "stream",
     "text": [
      "Enter a number: 99\n"
     ]
    },
    {
     "name": "stdout",
     "output_type": "stream",
     "text": [
      "The number lies in the range!\n"
     ]
    }
   ],
   "source": [
    "number = int(input(\"Enter a number:\"))\n",
    "if number <= 100:\n",
    "    print(\"The number lies in the range!\")\n",
    "else:\n",
    "    print(\"The number lies outside the range!\")"
   ]
  },
  {
   "cell_type": "markdown",
   "id": "3df7989a-8da3-4663-bcfd-b95b1a25615c",
   "metadata": {},
   "source": [
    "# 7. Write a Python function that accepts a string and counts the number of upper and lower case letters.\n",
    "#### Sample String : 'The quick Brow Fox'\n",
    "#### Expected Output :\n",
    "#### No. of Upper case characters : 3\n",
    "#### No. of Lower case Characters : 12 \n"
   ]
  },
  {
   "cell_type": "code",
   "execution_count": 11,
   "id": "654117f9-5275-4942-af63-071d9c869220",
   "metadata": {},
   "outputs": [],
   "source": [
    "def letters():\n",
    "    string = str(input(\"Enter a string:\"))\n",
    "    uppercase = 0\n",
    "    lowercase = 0\n",
    "\n",
    "    for char in string:\n",
    "        if char.isupper():\n",
    "            uppercase += 1\n",
    "        elif char.islower():\n",
    "            lowercase += 1\n",
    "\n",
    "    print(\"Number of Upper case characters:\",uppercase)\n",
    "    print(\"Number of Lower case characters:\",lowercase)"
   ]
  },
  {
   "cell_type": "code",
   "execution_count": 13,
   "id": "6a5486a1-1751-4930-89ba-69e1ad0dfe68",
   "metadata": {},
   "outputs": [
    {
     "name": "stdin",
     "output_type": "stream",
     "text": [
      "Enter a string: The quick Brow Fox\n"
     ]
    },
    {
     "name": "stdout",
     "output_type": "stream",
     "text": [
      "Number of Upper case characters: 3\n",
      "Number of Lower case characters: 12\n"
     ]
    }
   ],
   "source": [
    "letters()"
   ]
  },
  {
   "cell_type": "markdown",
   "id": "81be73df-235a-4cec-ae1e-d5f3fa8c91a2",
   "metadata": {},
   "source": [
    "# 8. Write a Python function that takes a list and returns a new list with distinct elements from the first list.\n",
    "#### Sample List : [1,2,3,3,3,3,4,5]\n",
    "#### Unique List : [1, 2, 3, 4, 5] "
   ]
  },
  {
   "cell_type": "code",
   "execution_count": 42,
   "id": "d7a3c1a3-2523-48d9-a9f7-147a36776e19",
   "metadata": {},
   "outputs": [
    {
     "name": "stdin",
     "output_type": "stream",
     "text": [
      "how many elements you want to enter in your list:  8\n",
      "enter the element no : 1 to put in the list 1\n",
      "enter the element no : 2 to put in the list 2\n",
      "enter the element no : 3 to put in the list 3\n",
      "enter the element no : 4 to put in the list 3\n",
      "enter the element no : 5 to put in the list 3\n",
      "enter the element no : 6 to put in the list 3\n",
      "enter the element no : 7 to put in the list 4\n",
      "enter the element no : 8 to put in the list 5\n"
     ]
    },
    {
     "name": "stdout",
     "output_type": "stream",
     "text": [
      "Sample List: [1, 2, 3, 3, 3, 3, 4, 5]\n",
      "Unique List: [1, 2, 3, 4, 5]\n"
     ]
    }
   ],
   "source": [
    "def uniquelist():\n",
    "    list1 = []\n",
    "    n = int(input(\"how many elements you want to enter in your list: \"))\n",
    "    for i in range (1,n+1):\n",
    "        number = int(input(f\"enter the element no : {i} to put in the list\"))\n",
    "        list1.append(number)\n",
    "        unique_list = list(set(list1))\n",
    "    print(\"Sample List:\",list1)\n",
    "    print(\"Unique List:\",unique_list)\n",
    "\n",
    "uniquelist()"
   ]
  },
  {
   "cell_type": "markdown",
   "id": "11aee098-5343-44fa-903b-7dc430f1ea97",
   "metadata": {},
   "source": [
    "# 9. Write a Python function that takes a number as a parameter and checks whether the number is prime or not. Note : A prime number (or a prime) is a natural number greater than 1 and that has no positive divisors other than 1 and itself. \n"
   ]
  },
  {
   "cell_type": "code",
   "execution_count": 29,
   "id": "bab4d188-d032-4ed2-9b8a-c021334f239f",
   "metadata": {},
   "outputs": [
    {
     "name": "stdin",
     "output_type": "stream",
     "text": [
      "Enter a number: 8\n"
     ]
    },
    {
     "name": "stdout",
     "output_type": "stream",
     "text": [
      "8 is a prime number\n"
     ]
    }
   ],
   "source": [
    "def primenumber():\n",
    "    number = int(input(\"Enter a number:\"))\n",
    "    if number == 0 or number == 1:\n",
    "        print(number, \"is not a prime number\")\n",
    "    elif number > 1:\n",
    "        for i in range(2,number):\n",
    "           if (number % i == 0) and (number / number == 0):\n",
    "               print(number,\"is not a prime number\")\n",
    "               continue\n",
    "           else:\n",
    "               print(number,\"is a prime number\")\n",
    "               break\n",
    "    else:\n",
    "       print(number,\"is not a prime number\")\n",
    "\n",
    "primenumber()"
   ]
  },
  {
   "cell_type": "code",
   "execution_count": 9,
   "id": "6c9a9721-df36-485c-8714-fd97b2c66dfb",
   "metadata": {},
   "outputs": [
    {
     "name": "stdin",
     "output_type": "stream",
     "text": [
      "Enter a number: 9\n"
     ]
    },
    {
     "data": {
      "text/plain": [
       "'This is not a prime number'"
      ]
     },
     "execution_count": 9,
     "metadata": {},
     "output_type": "execute_result"
    }
   ],
   "source": [
    "def prime():\n",
    "    number = int(input(\"Enter a number:\"))\n",
    "    if number <= 1:\n",
    "        return \"This is not a prime number\"\n",
    "    for i in range(2, int(number ** 0.5) + 1):\n",
    "        if number % i == 0:\n",
    "            return \"This is not a prime number\"\n",
    "    return \"This is a prime number\"\n",
    "\n",
    "prime()"
   ]
  },
  {
   "cell_type": "markdown",
   "id": "533408b8-147d-4bb5-966f-c7d1b7d05018",
   "metadata": {},
   "source": [
    "# 10. Write a Python program to print the even numbers from a given list.\n",
    "#### Sample List : [1, 2, 3, 4, 5, 6, 7, 8, 9]\n",
    "#### Expected Result : [2, 4, 6, 8] "
   ]
  },
  {
   "cell_type": "code",
   "execution_count": 5,
   "id": "cd536f51-087d-4a53-956a-ece8115a78d3",
   "metadata": {},
   "outputs": [
    {
     "data": {
      "text/plain": [
       "[2, 4, 6, 8]"
      ]
     },
     "execution_count": 5,
     "metadata": {},
     "output_type": "execute_result"
    }
   ],
   "source": [
    "lisst = [1,2,3,4,5,6,7,8,9]\n",
    "lisst[1::2]"
   ]
  },
  {
   "cell_type": "markdown",
   "id": "74754efa-8680-43df-8a0d-15e0e59a3e3e",
   "metadata": {},
   "source": [
    "# 11. Write a Python function to check whether a number is \"Perfect\" or not. According to Wikipedia : In number theory, a perfect number is a positive integer that is equal to the sum of its proper positive divisors, that is, the sum of its positive divisors excluding the number itself (also known as its aliquot sum). Equivalently, a perfect number is a number that is half the sum of all of its positive divisors (including itself). Example : The first perfect number is 6, because 1, 2, and 3 are its proper positive divisors, and 1 + 2 + 3 = 6. Equivalently, the number 6 is equal to half the sum of all its positive divisors: ( 1 + 2 + 3 + 6 ) / 2 = 6. The next perfect number is 28 = 1 + 2 + 4 + 7 + 14. This is followed by the perfect numbers 496 and 8128. \n"
   ]
  },
  {
   "cell_type": "code",
   "execution_count": 94,
   "id": "dac64c3b-ec47-4ddc-bb2c-883151798ff1",
   "metadata": {},
   "outputs": [
    {
     "name": "stdin",
     "output_type": "stream",
     "text": [
      "Enter a number: 6\n"
     ]
    },
    {
     "data": {
      "text/plain": [
       "'Yes this is a perfect number'"
      ]
     },
     "execution_count": 94,
     "metadata": {},
     "output_type": "execute_result"
    }
   ],
   "source": [
    "def perfectnumber():\n",
    "    number = int(input(\"Enter a number:\"))\n",
    "    if number < 0:\n",
    "        return \"Not a perfect number\"\n",
    "        \n",
    "    divisors = (i for i in range(1, number)\n",
    "    if number % i == 0)\n",
    "    sum_divisors = sum (divisors)\n",
    "    return \"Yes this is a perfect number\"\n",
    "\n",
    "perfectnumber()"
   ]
  },
  {
   "cell_type": "markdown",
   "id": "b2bc9957-e653-48c9-a9f9-46c4a5e2bd52",
   "metadata": {},
   "source": [
    "# 12. Write a Python function that checks whether a passed string is a palindrome or not. Note: A palindrome is a word, phrase, or sequence that reads the same backward as forward, e.g., madam or nurses run. "
   ]
  },
  {
   "cell_type": "code",
   "execution_count": 19,
   "id": "a79d0361-285a-4c6f-bf2c-2c53923e07c2",
   "metadata": {},
   "outputs": [],
   "source": [
    "def string():\n",
    "    string_1 = str(input(\"Enter a string:\"))\n",
    "    palidrome = string_1[::-1]\n",
    "    if string_1 == palidrome:\n",
    "        return f\"This {string_1} is a palidrome\"\n",
    "    else:\n",
    "        return f\"This {string_1} is a palidrome\""
   ]
  },
  {
   "cell_type": "code",
   "execution_count": 23,
   "id": "02447aad-8651-42ea-9053-78148afc6a53",
   "metadata": {},
   "outputs": [
    {
     "name": "stdin",
     "output_type": "stream",
     "text": [
      "Enter a string: nurses run\n"
     ]
    },
    {
     "data": {
      "text/plain": [
       "'This nurses run is a palidrome'"
      ]
     },
     "execution_count": 23,
     "metadata": {},
     "output_type": "execute_result"
    }
   ],
   "source": [
    "string()"
   ]
  }
 ],
 "metadata": {
  "kernelspec": {
   "display_name": "Python 3 (ipykernel)",
   "language": "python",
   "name": "python3"
  },
  "language_info": {
   "codemirror_mode": {
    "name": "ipython",
    "version": 3
   },
   "file_extension": ".py",
   "mimetype": "text/x-python",
   "name": "python",
   "nbconvert_exporter": "python",
   "pygments_lexer": "ipython3",
   "version": "3.12.7"
  }
 },
 "nbformat": 4,
 "nbformat_minor": 5
}
