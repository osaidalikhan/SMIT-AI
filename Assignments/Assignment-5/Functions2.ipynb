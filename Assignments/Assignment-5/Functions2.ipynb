{
 "cells": [
  {
   "cell_type": "markdown",
   "id": "c8c50925-4cdf-4782-8aa2-1c05311182ee",
   "metadata": {},
   "source": [
    "# 1. You need to write a function in python that return all such numbers which are divisible by 7 but are not a multiple of 5, between 2000 and 3200 (both included). Return the obtained numbers in a comma-separated sequence on a single line. \n"
   ]
  },
  {
   "cell_type": "code",
   "execution_count": 23,
   "id": "50ca666d-55ca-45d3-a0fa-d4c90fc616c9",
   "metadata": {},
   "outputs": [
    {
     "data": {
      "text/plain": [
       "'2002,2009,2016,2023,2037,2044,2051,2058,2072,2079,2086,2093,2107,2114,2121,2128,2142,2149,2156,2163,2177,2184,2191,2198,2212,2219,2226,2233,2247,2254,2261,2268,2282,2289,2296,2303,2317,2324,2331,2338,2352,2359,2366,2373,2387,2394,2401,2408,2422,2429,2436,2443,2457,2464,2471,2478,2492,2499,2506,2513,2527,2534,2541,2548,2562,2569,2576,2583,2597,2604,2611,2618,2632,2639,2646,2653,2667,2674,2681,2688,2702,2709,2716,2723,2737,2744,2751,2758,2772,2779,2786,2793,2807,2814,2821,2828,2842,2849,2856,2863,2877,2884,2891,2898,2912,2919,2926,2933,2947,2954,2961,2968,2982,2989,2996,3003,3017,3024,3031,3038,3052,3059,3066,3073,3087,3094,3101,3108,3122,3129,3136,3143,3157,3164,3171,3178,3192,3199'"
      ]
     },
     "execution_count": 23,
     "metadata": {},
     "output_type": "execute_result"
    }
   ],
   "source": [
    "def numberstofind():\n",
    "    numbers = (str(num)\n",
    "    for num in range(2000, 3201)\n",
    "        if num % 7 == 0 and num % 5 != 0)\n",
    "    return \",\".join(numbers)\n",
    "\n",
    "numberstofind()"
   ]
  },
  {
   "cell_type": "markdown",
   "id": "36936d61-fbd2-4be8-a37b-be550344719d",
   "metadata": {},
   "source": [
    "# 2.You need code a function that calculates and returns the value according to thegiven formula:\n",
    "#### P = Square root of [(2 * A * B)/C]\n",
    "#### Following are the fixed values of A and B:\n",
    "#### A is 50. B is 30.\n",
    "#### The values of the literal C should be taken as console input to your program in a comma-separated sequence.\n",
    "#### Example\n",
    "#### Let us assume the following comma separated input sequence is given to the program:\n",
    "#### 100,150,180\n",
    "#### The output of the program should be:\n",
    "#### 18,22,24 "
   ]
  },
  {
   "cell_type": "code",
   "execution_count": 5,
   "id": "09078a59-05e7-448d-a29a-0dc5c4e32202",
   "metadata": {},
   "outputs": [
    {
     "name": "stdin",
     "output_type": "stream",
     "text": [
      "Enter comma-separated values for C: 100,150,180\n"
     ]
    },
    {
     "name": "stdout",
     "output_type": "stream",
     "text": [
      "5,4,4\n"
     ]
    }
   ],
   "source": [
    "import math\n",
    "\n",
    "def calculate_p(values_c):\n",
    "    A = 50\n",
    "    B = 30\n",
    "    results = []\n",
    "    \n",
    "    for C in values_c:\n",
    "        P = math.sqrt((2 * A * B) / C)\n",
    "        results.append(int(P))  # into integer \n",
    "    \n",
    "    return results\n",
    "\n",
    "input_values = input(\"Enter comma-separated values for C:\")\n",
    "c_values = (int(x) \n",
    "            for x in input_values.split(\",\"))\n",
    "\n",
    "output = calculate_p(c_values)\n",
    "print(\",\".join(map(str, output)))"
   ]
  },
  {
   "cell_type": "markdown",
   "id": "d27866d2-3100-4495-a96a-1ca1c76a6ade",
   "metadata": {},
   "source": [
    "# 3.You need to write a function that takes a comma separated sequence of words as input and prints the words in a comma-separated sequence after sorting them alphabetically. \n",
    "#### Suppose the following input is supplied to the program:\n",
    "#### without,hello,bag,world\n",
    "#### Then, the output should be:\n",
    "#### bag,hello,without,world "
   ]
  },
  {
   "cell_type": "code",
   "execution_count": 35,
   "id": "edd66b1e-8d62-43eb-a9e8-a2ac6b670961",
   "metadata": {},
   "outputs": [
    {
     "name": "stdin",
     "output_type": "stream",
     "text": [
      "Enter comma-separated sequence of words: without,hello,bag,world\n"
     ]
    },
    {
     "data": {
      "text/plain": [
       "'bag,hello,without,world'"
      ]
     },
     "execution_count": 35,
     "metadata": {},
     "output_type": "execute_result"
    }
   ],
   "source": [
    "def sortedwords():\n",
    "    string = input(\"Enter comma-separated sequence of words:\")\n",
    "    words = string.split(\",\")\n",
    "    sorted_words = sorted(word.strip() for word in words)  # Strip any extra spaces\n",
    "    return \",\".join(sorted_words)\n",
    "\n",
    "sortedwords()"
   ]
  },
  {
   "cell_type": "markdown",
   "id": "51c17b44-d670-41de-8ce8-2c1ce60d3dc0",
   "metadata": {},
   "source": [
    "# 4.You need to write a program that takes sequence of lines as input and prints the lines after making all characters in the sentence capitalized. Suppose the following input is supplied to the program:\n",
    "#### Hello world\n",
    "#### Practice makes perfect\n",
    "#### Then, the output should be:\n",
    "#### HELLO WORLD\n",
    "#### PRACTICE MAKES PERFECT "
   ]
  },
  {
   "cell_type": "code",
   "execution_count": 5,
   "id": "95037148-557c-4812-aa15-04b77e97903f",
   "metadata": {},
   "outputs": [
    {
     "name": "stdin",
     "output_type": "stream",
     "text": [
      "Enter a string: Hello world\n",
      "Enter a string: Practice makes perfect\n"
     ]
    },
    {
     "name": "stdout",
     "output_type": "stream",
     "text": [
      "HELLO WORLD\n",
      "PRACTICE MAKES PERFECT\n"
     ]
    }
   ],
   "source": [
    "string1 = str(input(\"Enter a string:\"))\n",
    "string2 = str(input(\"Enter a string:\"))\n",
    "print(string1.upper())\n",
    "print(string2.upper())"
   ]
  },
  {
   "cell_type": "markdown",
   "id": "39b0d19f-d3d9-41d8-a9eb-3a66edf7f7e7",
   "metadata": {},
   "source": [
    "# 5.You need to write a function that counts the number of vowels in a given sentence as input from console. Suppose the following input is supplied to the program:\n",
    "#### Hello world\n",
    "#### Practice makes perfect\n",
    "#### Then, the output should be:\n",
    "#### a appeared 2 times\n",
    "#### e appeared 5 times\n",
    "#### i appeared 1 time\n",
    "#### o appeared 2 times\n",
    "#### u appeared 0 time\n",
    "#### PRACTICE MAKES PERFECT"
   ]
  },
  {
   "cell_type": "code",
   "execution_count": 37,
   "id": "29f593d7-b073-44eb-972d-697f05fb7f71",
   "metadata": {},
   "outputs": [],
   "source": [
    "def sentence():\n",
    "    string = str(input(\"Enter a string:\")).lower()\n",
    "    a = 0\n",
    "    e = 0\n",
    "    i = 0\n",
    "    o = 0\n",
    "    u = 0\n",
    "    for m in range(len(string)):\n",
    "        if m == a:\n",
    "            a += 1\n",
    "        elif m == e:\n",
    "            e += 1\n",
    "        elif m == i:\n",
    "            i += 1\n",
    "        elif m == o:\n",
    "            o += 1  \n",
    "        elif m == u:\n",
    "            u += 1  \n",
    "    else:\n",
    "        return \"No vowels found\"\n",
    "            \n",
    "    print(\"a appeared times:\",a)\n",
    "    print(\"e appeared times:\",e)\n",
    "    print(\"i appeared times:\",i)\n",
    "    print(\"o appeared times:\",o)\n",
    "    print(\"u appeared times:\",u)"
   ]
  },
  {
   "cell_type": "code",
   "execution_count": 39,
   "id": "a04f23c6-c169-42e8-9cc0-5bfa2955c565",
   "metadata": {},
   "outputs": [
    {
     "name": "stdin",
     "output_type": "stream",
     "text": [
      "Enter a string: Hello world\n"
     ]
    },
    {
     "data": {
      "text/plain": [
       "'No vowels found'"
      ]
     },
     "execution_count": 39,
     "metadata": {},
     "output_type": "execute_result"
    }
   ],
   "source": [
    "sentence()"
   ]
  },
  {
   "cell_type": "code",
   "execution_count": 7,
   "id": "793f0aac-3ce2-4c60-ac2b-72078f88b80d",
   "metadata": {},
   "outputs": [
    {
     "name": "stdin",
     "output_type": "stream",
     "text": [
      "Enter a string Hello world\n",
      "Enter a string Practise makes perfect\n"
     ]
    },
    {
     "data": {
      "text/plain": [
       "{'a': 2, 'e': 4, 'i': 1, 'o': 0, 'u': 0}"
      ]
     },
     "execution_count": 7,
     "metadata": {},
     "output_type": "execute_result"
    }
   ],
   "source": [
    "def countVowels():\n",
    "    s1 = str(input(\"Enter a string\")).lower()\n",
    "    s2 = str(input(\"Enter a string\")).lower()\n",
    "    vowels = {'a':0,\n",
    "              'e':0,\n",
    "              'i':0,\n",
    "              'o':0,\n",
    "              'u':0}\n",
    "    for char in s1 and s2:\n",
    "        if char in vowels:\n",
    "            vowels[char]+=1\n",
    "    return vowels\n",
    "\n",
    "countVowels()"
   ]
  },
  {
   "cell_type": "code",
   "execution_count": 15,
   "id": "1bb40b1f-423f-45ac-b585-6c221c008dc6",
   "metadata": {},
   "outputs": [
    {
     "name": "stdin",
     "output_type": "stream",
     "text": [
      "Enter a sentence: Hello world\n",
      "Enter a sentence: Practice makes perfect\n"
     ]
    },
    {
     "name": "stdout",
     "output_type": "stream",
     "text": [
      "a appeared 2 times\n",
      "e appeared 4 times\n",
      "i appeared 1 time\n",
      "o appeared 0 times\n",
      "u appeared 0 times\n"
     ]
    }
   ],
   "source": [
    "def count_vowels():\n",
    "    sentence1 = input(\"Enter a sentence:\").lower()\n",
    "    sentence2 = input(\"Enter a sentence:\").lower()\n",
    "    vowels = 'aeiou'\n",
    "    count_vowels = {vowel: 0 for vowel in vowels}\n",
    "    for char in sentence1 and sentence2:\n",
    "        if char in count_vowels:\n",
    "            count_vowels[char] += 1\n",
    "    \n",
    "    for vowel in vowels:\n",
    "        count = count_vowels[vowel]\n",
    "        if count == 1:\n",
    "            print(f\"{vowel} appeared {count} time\")\n",
    "        else:\n",
    "            print(f\"{vowel} appeared {count} times\")\n",
    "            \n",
    "count_vowels()"
   ]
  },
  {
   "cell_type": "markdown",
   "id": "7c07b37f-3a48-4b36-bb92-2187e69d50bc",
   "metadata": {},
   "source": [
    "# 6.You need write a function that traces and makes a list of all such numbers from 1000 to 3000 in which all the digits are even numbers. "
   ]
  },
  {
   "cell_type": "code",
   "execution_count": 17,
   "id": "12dc53ab-bcac-4860-9e94-b3bd5c1eab40",
   "metadata": {},
   "outputs": [
    {
     "data": {
      "text/plain": [
       "[2000,\n",
       " 2002,\n",
       " 2004,\n",
       " 2006,\n",
       " 2008,\n",
       " 2020,\n",
       " 2022,\n",
       " 2024,\n",
       " 2026,\n",
       " 2028,\n",
       " 2040,\n",
       " 2042,\n",
       " 2044,\n",
       " 2046,\n",
       " 2048,\n",
       " 2060,\n",
       " 2062,\n",
       " 2064,\n",
       " 2066,\n",
       " 2068,\n",
       " 2080,\n",
       " 2082,\n",
       " 2084,\n",
       " 2086,\n",
       " 2088,\n",
       " 2200,\n",
       " 2202,\n",
       " 2204,\n",
       " 2206,\n",
       " 2208,\n",
       " 2220,\n",
       " 2222,\n",
       " 2224,\n",
       " 2226,\n",
       " 2228,\n",
       " 2240,\n",
       " 2242,\n",
       " 2244,\n",
       " 2246,\n",
       " 2248,\n",
       " 2260,\n",
       " 2262,\n",
       " 2264,\n",
       " 2266,\n",
       " 2268,\n",
       " 2280,\n",
       " 2282,\n",
       " 2284,\n",
       " 2286,\n",
       " 2288,\n",
       " 2400,\n",
       " 2402,\n",
       " 2404,\n",
       " 2406,\n",
       " 2408,\n",
       " 2420,\n",
       " 2422,\n",
       " 2424,\n",
       " 2426,\n",
       " 2428,\n",
       " 2440,\n",
       " 2442,\n",
       " 2444,\n",
       " 2446,\n",
       " 2448,\n",
       " 2460,\n",
       " 2462,\n",
       " 2464,\n",
       " 2466,\n",
       " 2468,\n",
       " 2480,\n",
       " 2482,\n",
       " 2484,\n",
       " 2486,\n",
       " 2488,\n",
       " 2600,\n",
       " 2602,\n",
       " 2604,\n",
       " 2606,\n",
       " 2608,\n",
       " 2620,\n",
       " 2622,\n",
       " 2624,\n",
       " 2626,\n",
       " 2628,\n",
       " 2640,\n",
       " 2642,\n",
       " 2644,\n",
       " 2646,\n",
       " 2648,\n",
       " 2660,\n",
       " 2662,\n",
       " 2664,\n",
       " 2666,\n",
       " 2668,\n",
       " 2680,\n",
       " 2682,\n",
       " 2684,\n",
       " 2686,\n",
       " 2688,\n",
       " 2800,\n",
       " 2802,\n",
       " 2804,\n",
       " 2806,\n",
       " 2808,\n",
       " 2820,\n",
       " 2822,\n",
       " 2824,\n",
       " 2826,\n",
       " 2828,\n",
       " 2840,\n",
       " 2842,\n",
       " 2844,\n",
       " 2846,\n",
       " 2848,\n",
       " 2860,\n",
       " 2862,\n",
       " 2864,\n",
       " 2866,\n",
       " 2868,\n",
       " 2880,\n",
       " 2882,\n",
       " 2884,\n",
       " 2886,\n",
       " 2888]"
      ]
     },
     "execution_count": 17,
     "metadata": {},
     "output_type": "execute_result"
    }
   ],
   "source": [
    "def evennumbers():\n",
    "    even_numbers = []\n",
    "    for num in range(1000, 3001):\n",
    "        if all(int(digit) % 2 == 0 \n",
    "               for digit in str(num)):\n",
    "            even_numbers.append(num)\n",
    "    return even_numbers\n",
    "\n",
    "evennumbers()"
   ]
  },
  {
   "cell_type": "markdown",
   "id": "c4297c8c-6db5-4761-9c93-1f3128e4fe1d",
   "metadata": {},
   "source": [
    "# 7.You need to write a code which accepts a sequence of comma separated 4 digit binary numbers as its input and then check whether they are divisible by 5 or not. The numbers that are divisible by 5 are to be printed in a comma separated sequence.\n",
    "#### Example:\n",
    "#### 0100,0011,1010,1001\n",
    "#### Then the output should be:\n",
    "#### 1010"
   ]
  },
  {
   "cell_type": "code",
   "execution_count": 13,
   "id": "a67400c4-5a9f-4e0a-b609-17aa01e0fd77",
   "metadata": {},
   "outputs": [
    {
     "name": "stdin",
     "output_type": "stream",
     "text": [
      "Enter comma-separated binary numbers:  0100,0011,1010,1001\n"
     ]
    },
    {
     "name": "stdout",
     "output_type": "stream",
     "text": [
      "1010\n"
     ]
    }
   ],
   "source": [
    "def divisibile():\n",
    "    binary_numbers = input(\"Enter comma-separated binary numbers: \").split(',')\n",
    "    divisible_by_5 = (num for num in binary_numbers \n",
    "                      if int(num, 2) % 5 == 0)\n",
    "    print(\",\".join(divisible_by_5))\n",
    "\n",
    "divisibile()"
   ]
  },
  {
   "cell_type": "markdown",
   "id": "755f2a4d-5bed-4615-8fff-85912a7546fc",
   "metadata": {},
   "source": [
    "# 8.Write a program that accepts a sentence and calculate the number of letters and digits.\n",
    "#### Suppose the following input is supplied to the program:\n",
    "#### hello world! 123\n",
    "#### Then, the output should be:\n",
    "#### LETTERS 10\n",
    "#### DIGITS 3 "
   ]
  },
  {
   "cell_type": "code",
   "execution_count": 11,
   "id": "80209293-e464-4db5-b29e-e1bb88c2d7ba",
   "metadata": {},
   "outputs": [],
   "source": [
    "def sentence():\n",
    "    string = str(input(\"Enter a string:\"))\n",
    "    letters = 0\n",
    "    digits = 0\n",
    "\n",
    "    for char in string:\n",
    "        if char.isalpha():\n",
    "            letters += 1\n",
    "        elif char.isdigit():\n",
    "            digits += 1\n",
    "\n",
    "    print(\"LETTERS:\",letters)\n",
    "    print(\"DIGITS:\",digits)"
   ]
  },
  {
   "cell_type": "code",
   "execution_count": 13,
   "id": "8eadf337-00e5-434b-8427-1cd9ea5e1714",
   "metadata": {},
   "outputs": [
    {
     "name": "stdin",
     "output_type": "stream",
     "text": [
      "Enter a string: hello world! 123\n"
     ]
    },
    {
     "name": "stdout",
     "output_type": "stream",
     "text": [
      "LETTERS: 10\n",
      "DIGITS: 3\n"
     ]
    }
   ],
   "source": [
    "sentence()"
   ]
  },
  {
   "cell_type": "code",
   "execution_count": 15,
   "id": "e6311060-c375-43f8-b2d2-e5627359f674",
   "metadata": {},
   "outputs": [
    {
     "name": "stdin",
     "output_type": "stream",
     "text": [
      "Enter a string: hello world! 123\n"
     ]
    },
    {
     "name": "stdout",
     "output_type": "stream",
     "text": [
      "LETTERS: 10\n",
      "DIGITS: 3\n"
     ]
    }
   ],
   "source": [
    "string = str(input(\"Enter a string:\"))\n",
    "letters = 0\n",
    "digits = 0\n",
    "\n",
    "for char in string:\n",
    "    if char.isalpha():\n",
    "        letters += 1\n",
    "    elif char.isdigit():\n",
    "        digits += 1\n",
    "\n",
    "print(\"LETTERS:\",letters)\n",
    "print(\"DIGITS:\",digits)"
   ]
  }
 ],
 "metadata": {
  "kernelspec": {
   "display_name": "Python 3 (ipykernel)",
   "language": "python",
   "name": "python3"
  },
  "language_info": {
   "codemirror_mode": {
    "name": "ipython",
    "version": 3
   },
   "file_extension": ".py",
   "mimetype": "text/x-python",
   "name": "python",
   "nbconvert_exporter": "python",
   "pygments_lexer": "ipython3",
   "version": "3.12.7"
  }
 },
 "nbformat": 4,
 "nbformat_minor": 5
}
