{
 "cells": [
  {
   "cell_type": "markdown",
   "id": "b2e8814a-4250-4ad9-992b-e01e8d8e2f2e",
   "metadata": {},
   "source": [
    "# 1. Write a program that accepts a list from user and print the alternate element of list."
   ]
  },
  {
   "cell_type": "code",
   "execution_count": 1,
   "id": "69ed0fd6-0392-4c2c-8314-485c92a3f3e4",
   "metadata": {},
   "outputs": [
    {
     "data": {
      "text/plain": [
       "[11, 13, 15, 17, 19]"
      ]
     },
     "execution_count": 1,
     "metadata": {},
     "output_type": "execute_result"
    }
   ],
   "source": [
    "list = [11,12,13,14,15,16,17,18,19,20]\n",
    "list[::2]"
   ]
  },
  {
   "cell_type": "markdown",
   "id": "4c27e5d6-7cc4-4a44-aada-08c57bca9654",
   "metadata": {},
   "source": [
    "# 2.Write a program that accepts a list from user. Your program should reverse the content of list and display it. Do not use reverse() method."
   ]
  },
  {
   "cell_type": "code",
   "execution_count": 3,
   "id": "f1ca1d62-4bc7-4a8c-a3db-0f7b90b1da46",
   "metadata": {},
   "outputs": [
    {
     "data": {
      "text/plain": [
       "[20, 19, 18, 17, 16, 15, 14, 13, 12, 11]"
      ]
     },
     "execution_count": 3,
     "metadata": {},
     "output_type": "execute_result"
    }
   ],
   "source": [
    "list = [11,12,13,14,15,16,17,18,19,20]\n",
    "list[::-1]"
   ]
  },
  {
   "cell_type": "markdown",
   "id": "c1bee4a7-b005-4d4c-8b39-b441581276b0",
   "metadata": {},
   "source": [
    "# 3. Find and display the largest number of a list without using built-in function max(). Your program should ask the user to input values in list from keyboard."
   ]
  },
  {
   "cell_type": "code",
   "execution_count": 4,
   "id": "92b9cd42-ca4c-4059-aa5e-a2e4c1d3ace6",
   "metadata": {},
   "outputs": [
    {
     "name": "stdin",
     "output_type": "stream",
     "text": [
      "how many elements you want to enter in your list:  5\n",
      "enter the element no : 1 to put in the list 1\n",
      "enter the element no : 2 to put in the list 2\n",
      "enter the element no : 3 to put in the list 6\n",
      "enter the element no : 4 to put in the list 7\n",
      "enter the element no : 5 to put in the list 9\n"
     ]
    },
    {
     "name": "stdout",
     "output_type": "stream",
     "text": [
      "The largest number of the list is: 9\n"
     ]
    }
   ],
   "source": [
    "list = []\n",
    "n = int(input(\"how many elements you want to enter in your list: \"))\n",
    "for i in range (1,n+1):\n",
    "    number = int(input(f\"enter the element no : {i} to put in the list\"))\n",
    "    list.append(number)\n",
    "max = 0\n",
    "for j in range(len(list)):\n",
    "    if(max < list[j]):\n",
    "        max = list[j]\n",
    "    else:\n",
    "        pass\n",
    "print(\"The largest number of the list is:\",max)"
   ]
  },
  {
   "cell_type": "markdown",
   "id": "f0aa3bf4-7ca2-4b21-bb01-12bf655568b4",
   "metadata": {},
   "source": [
    "# 4. Write a program that rotates the element of a list so that the element at the first index moves to the second index, the element in the second index moves to the third index, etc., and the element in the last index moves to the first index."
   ]
  },
  {
   "cell_type": "code",
   "execution_count": 7,
   "id": "0304ca81-9151-4a81-a2bd-d925cbd4337a",
   "metadata": {},
   "outputs": [
    {
     "name": "stdout",
     "output_type": "stream",
     "text": [
      "[20, 11, 12, 13, 14, 15, 16, 17, 18, 19]\n"
     ]
    }
   ],
   "source": [
    "list1 = [11,12,13,14,15,16,17,18,19,20]\n",
    "lenght = len(list)\n",
    "rotated_list = [list1[-1]] + list1[:-1]\n",
    "print(rotated_list)"
   ]
  },
  {
   "cell_type": "markdown",
   "id": "067b2fdc-8a40-4dcf-ad69-6fface361a62",
   "metadata": {},
   "source": [
    "# 5. Write a program that input a string and ask user to delete a given word from a string."
   ]
  },
  {
   "cell_type": "code",
   "execution_count": 15,
   "id": "214e61cd-32d5-466c-a687-b214aef04e9b",
   "metadata": {},
   "outputs": [
    {
     "name": "stdin",
     "output_type": "stream",
     "text": [
      "Enter a string: Osaid Ali Khan\n",
      "Enter the word you want to delete: a\n"
     ]
    },
    {
     "data": {
      "text/plain": [
       "'Osid Ali Khn'"
      ]
     },
     "execution_count": 15,
     "metadata": {},
     "output_type": "execute_result"
    }
   ],
   "source": [
    "string = str(input(\"Enter a string:\"))\n",
    "delete_word = str(input(\"Enter the word you want to delete:\"))\n",
    "string.replace(delete_word,\"\")"
   ]
  },
  {
   "cell_type": "markdown",
   "id": "f186524b-78fe-47d8-9c0e-b874489a6afd",
   "metadata": {},
   "source": [
    "# 6. Write a program that reads a string from the user containing a date in the form mm/dd/yyyy. It should print the date in the form March 12, 2021."
   ]
  },
  {
   "cell_type": "code",
   "execution_count": 17,
   "id": "3fd20c4b-d0c6-4150-947b-b92564cb27b4",
   "metadata": {},
   "outputs": [
    {
     "name": "stdin",
     "output_type": "stream",
     "text": [
      "Enter a date in foramt mm/dd/yyyy: 12/17/2024\n"
     ]
    },
    {
     "name": "stdout",
     "output_type": "stream",
     "text": [
      "Dec 17,2024\n"
     ]
    }
   ],
   "source": [
    "months = {1:'Jan', 2:'Feb', 3:'March',\n",
    "         4:'April',5:'May',6:'June',7:'July',\n",
    "         8:'Aug',9:'Sept',10:'Oct',11:'Nov',12:'Dec'}\n",
    "\n",
    "date = input(\"Enter a date in foramt mm/dd/yyyy:\").split(\"/\")\n",
    "print(f\"{months.get(int(date[0]))} {(date[1])},{date[2]}\")"
   ]
  },
  {
   "cell_type": "markdown",
   "id": "9295b6bf-2b21-4c4a-9972-6b5976bfd93b",
   "metadata": {},
   "source": [
    "# 7. Write a program with a function that accepts a string from keyboard and create a new string after converting character of each word capitalized. For instance, if the sentence is \"stop and smell the roses.\" the output should be \"Stop And Smell The Roses\""
   ]
  },
  {
   "cell_type": "code",
   "execution_count": 17,
   "id": "d01bd034-9d7e-47df-b352-6a237dda4423",
   "metadata": {},
   "outputs": [
    {
     "name": "stdin",
     "output_type": "stream",
     "text": [
      "Enter a string: stop and smell the roses.\n"
     ]
    },
    {
     "data": {
      "text/plain": [
       "'Stop And Smell The Roses.'"
      ]
     },
     "execution_count": 17,
     "metadata": {},
     "output_type": "execute_result"
    }
   ],
   "source": [
    "string = str(input(\"Enter a string:\"))\n",
    "string.title()"
   ]
  },
  {
   "cell_type": "markdown",
   "id": "54c573c0-16de-439c-a467-765a941fdb93",
   "metadata": {},
   "source": [
    "### 8. Find the sum of each row of matrix of size m x n. For example for the following matrix output will be like this :\n",
    "        - Sum of row 1 = 32\n",
    "        - Sum of row 2 = 31\n",
    "        - Sum of row 3 = 63"
   ]
  },
  {
   "cell_type": "code",
   "execution_count": 20,
   "id": "79d8c7b6-0a82-4ba6-b863-b63c5e9d83a2",
   "metadata": {},
   "outputs": [
    {
     "name": "stdout",
     "output_type": "stream",
     "text": [
      "Sum of row 1 = 32\n",
      "Sum of row 2 = 31\n",
      "Sum of row 3 = 63\n"
     ]
    }
   ],
   "source": [
    "list = [[2,11,7,12],[5,2,9,15],[3,8,10,42]]\n",
    "sum_list = []\n",
    "for i in list:\n",
    "    sum = 0\n",
    "    for j in i:\n",
    "        sum += j\n",
    "    sum_list.append(sum)\n",
    "\n",
    "for k in range(len(sum_list)):\n",
    "    print(f\"Sum of row {k+1} = {sum_list[k]}\")"
   ]
  },
  {
   "cell_type": "markdown",
   "id": "6dbafe43-e85d-467f-a2cf-4dac547a9ab5",
   "metadata": {},
   "source": [
    "###  9. Write a program to add two matrices of size n x m."
   ]
  },
  {
   "cell_type": "code",
   "execution_count": 23,
   "id": "9471a704-0523-4520-a1fa-53bf3dcc4dea",
   "metadata": {},
   "outputs": [
    {
     "name": "stdout",
     "output_type": "stream",
     "text": [
      "[[1, 2, 3], [4, 5, 6], [7, 8, 9]]\n",
      "[[4, 5, 6], [1, 2, 3], [9, 8, 7]]\n",
      "[[5, 7, 9], [5, 7, 9], [16, 16, 16]]\n"
     ]
    }
   ],
   "source": [
    "def createMatrix(rowNo,colNo,dataList):\n",
    "    matrix =[]\n",
    "    for i in range(rowNo):\n",
    "        listRow = []\n",
    "        for j in range(colNo):\n",
    "            listRow.append(dataList[rowNo * i + j]) # 0 1 2\n",
    "        matrix.append(listRow)\n",
    "    return matrix\n",
    "\n",
    "list1 = [1,2,3,4,5,6,7,8,9]\n",
    "matrix1 = createMatrix(3,3,list1)\n",
    "print(matrix1)\n",
    "list2 = [4,5,6,1,2,3,9,8,7]\n",
    "matrix2 = createMatrix(3,3,list2)\n",
    "print(matrix2)\n",
    "# len(matrix1)\n",
    "# a = len(matrix1[0])\n",
    "# print(a)\n",
    "# def addMatrix(mat1,mat2):\n",
    "#     output_matrix = []\n",
    "#     for i in range(len(mat1)):\n",
    "#         listRow = []\n",
    "#         for j in range(len(mat2[0])):\n",
    "#             listRow.append(mat1[i][j] + mat2[i][j])\n",
    "#         output_matrix.append(listRow)\n",
    "#     return output_matrix\n",
    "# y = addMatrix(matrix1,matrix2)\n",
    "# print(y)\n",
    "\n",
    "\n",
    "def addMatrix(mat1,mat2):\n",
    "    output_matrix = [[0,0,0],[0,0,0],[0,0,0]]\n",
    "    for i in range(len(mat1)):\n",
    "        for j in range(len(mat1[0])):\n",
    "            output_matrix[i][j] = (mat1[i][j] + mat2[i][j])\n",
    "    return output_matrix\n",
    "\n",
    "y = addMatrix(matrix1,matrix2)\n",
    "print(y)"
   ]
  },
  {
   "cell_type": "markdown",
   "id": "55a21e61-a5e5-4d9f-9fb1-a250fe619228",
   "metadata": {},
   "source": [
    "### 10. Write a program to multiply two matrices"
   ]
  },
  {
   "cell_type": "code",
   "execution_count": 26,
   "id": "ad82bd93-53bf-47dd-b728-776cc644d93e",
   "metadata": {},
   "outputs": [
    {
     "name": "stdout",
     "output_type": "stream",
     "text": [
      "[[1, 2, 3], [4, 5, 6], [7, 8, 9]]\n",
      "[[4, 5, 6], [1, 2, 3], [9, 8, 7]]\n",
      "[[33, 33, 33], [75, 78, 81], [117, 123, 129]]\n"
     ]
    }
   ],
   "source": [
    "def createMatrix(rowNo,colNo,dataList):\n",
    "    matrix =[]\n",
    "    for i in range(rowNo):\n",
    "        listRow = []\n",
    "        for j in range(colNo):\n",
    "            listRow.append(dataList[rowNo * i + j]) # 0 1 2\n",
    "        matrix.append(listRow)\n",
    "    return matrix\n",
    "\n",
    "list1 = [1,2,3,4,5,6,7,8,9]\n",
    "matrix1 = createMatrix(3,3,list1)\n",
    "print(matrix1)\n",
    "list2 = [4,5,6,1,2,3,9,8,7]\n",
    "matrix2 = createMatrix(3,3,list2)\n",
    "print(matrix2)\n",
    "# len(matrix1)\n",
    "# a = len(matrix1[0])\n",
    "# print(a)\n",
    "\n",
    "# print(matrix1[1][0])\n",
    "\n",
    "\n",
    "def mulMatrix(mat1,mat2):\n",
    "    if(len(mat1[0]) == len(mat2)): #mat1[col] == mat2[row]\n",
    "        output_matrix = [[0,0,0],[0,0,0],[0,0,0]]\n",
    "        for i in range(len(mat1)):\n",
    "            for j in range(len(mat2[0])):\n",
    "                for k in range(len(mat2)):\n",
    "                    output_matrix[i][j] += mat1[i][k] * mat2[k][j]\n",
    "        return output_matrix\n",
    "    else:\n",
    "        print(\"matrix not compatible!\")\n",
    "y = mulMatrix(matrix1,matrix2)\n",
    "print(y)"
   ]
  }
 ],
 "metadata": {
  "kernelspec": {
   "display_name": "Python 3 (ipykernel)",
   "language": "python",
   "name": "python3"
  },
  "language_info": {
   "codemirror_mode": {
    "name": "ipython",
    "version": 3
   },
   "file_extension": ".py",
   "mimetype": "text/x-python",
   "name": "python",
   "nbconvert_exporter": "python",
   "pygments_lexer": "ipython3",
   "version": "3.12.7"
  }
 },
 "nbformat": 4,
 "nbformat_minor": 5
}
