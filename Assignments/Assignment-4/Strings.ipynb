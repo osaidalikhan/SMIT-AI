{
 "cells": [
  {
   "cell_type": "markdown",
   "id": "ac21d8a7-73e0-4e97-a7f6-490bd76df49c",
   "metadata": {},
   "source": [
    "# 1. Write a program that accepts a string from user. Your program should count and display number of vowels in that string."
   ]
  },
  {
   "cell_type": "code",
   "execution_count": 1,
   "id": "c77e27d3-1c1e-4f15-a27c-68b7b174a726",
   "metadata": {},
   "outputs": [
    {
     "name": "stdin",
     "output_type": "stream",
     "text": [
      "Enter a string: Osaid Ali Khan\n"
     ]
    },
    {
     "name": "stdout",
     "output_type": "stream",
     "text": [
      "The vowels count is: 6\n"
     ]
    }
   ],
   "source": [
    "string = str(input(\"Enter a string:\"))\n",
    "vowels = \"aeiouAEIOU\"\n",
    "count_vowels = 0\n",
    "for char in string:\n",
    "        if char in vowels:\n",
    "            count_vowels += 1\n",
    "print(\"The vowels count is:\",count_vowels)"
   ]
  },
  {
   "cell_type": "markdown",
   "id": "25b4d14d-028d-490d-91ea-d81734b522c6",
   "metadata": {},
   "source": [
    "# 2. Write a program that reads a string from keyboard and display:\n",
    "* The number of uppercase letters in the string\n",
    "* The number of lowercase letters in the string\n",
    "* The number of digits in the string\n",
    "* The number of whitespace characters in the string"
   ]
  },
  {
   "cell_type": "code",
   "execution_count": 24,
   "id": "90cda7ba-6cef-4dc1-ba55-67c1e7675464",
   "metadata": {},
   "outputs": [
    {
     "name": "stdin",
     "output_type": "stream",
     "text": [
      "Enter a string: Osaid1 Ali Khan6\n"
     ]
    },
    {
     "name": "stdout",
     "output_type": "stream",
     "text": [
      "Number of uppercase letters: 3\n",
      "Number of lowercase letters: 9\n",
      "Number of digits: 2\n",
      "Number of whitespace characters: 2\n"
     ]
    }
   ],
   "source": [
    "string = str(input(\"Enter a string:\"))\n",
    "uppercase_count = 0\n",
    "lowercase_count = 0\n",
    "digit_count = 0\n",
    "whitespace_count = 0\n",
    "\n",
    "for char in string:\n",
    "    if char.isupper():\n",
    "        uppercase_count += 1\n",
    "    elif char.islower():\n",
    "        lowercase_count += 1\n",
    "    elif char.isdigit():\n",
    "        digit_count += 1\n",
    "    elif char.isspace():\n",
    "        whitespace_count += 1\n",
    "\n",
    "print(\"Number of uppercase letters:\",uppercase_count)\n",
    "print(\"Number of lowercase letters:\",lowercase_count)\n",
    "print(\"Number of digits:\",digit_count)\n",
    "print(\"Number of whitespace characters:\",whitespace_count)"
   ]
  },
  {
   "cell_type": "markdown",
   "id": "83a8018b-1ad4-437c-a5b3-3d9923c66ed8",
   "metadata": {},
   "source": [
    "# 3. Write a Python program that accepts a string from user. Your program should create and display a new string where the first and last characters have been exchanged. \n",
    "## For example if the user enters the string 'HELLO' then new string would be 'OELLH'"
   ]
  },
  {
   "cell_type": "code",
   "execution_count": 11,
   "id": "83693155-0267-4278-8241-92ef39954e04",
   "metadata": {},
   "outputs": [
    {
     "name": "stdin",
     "output_type": "stream",
     "text": [
      "Enter a string: HELLO\n"
     ]
    },
    {
     "name": "stdout",
     "output_type": "stream",
     "text": [
      "The Final String is: OELLH\n"
     ]
    }
   ],
   "source": [
    "string = str(input(\"Enter a string:\"))\n",
    "if len(string) <=1:\n",
    "    print(\"The string should be of more than 2 characters!\")\n",
    "else:\n",
    "    new_string = string[-1] + string[1:-1] + string[0]\n",
    "    print(\"The Final String is:\",new_string)"
   ]
  },
  {
   "cell_type": "markdown",
   "id": "db0ba38f-41b6-405f-959e-97755d904e14",
   "metadata": {},
   "source": [
    "# 4. Write a Python program that accepts a string from user. Your program should create a new string in reverse of first string and display it. For example if the user enters the string 'EXAM' then new string would be 'MAXE'"
   ]
  },
  {
   "cell_type": "code",
   "execution_count": 4,
   "id": "0e406aaa-66e5-47b4-9e47-16d97372bb8f",
   "metadata": {},
   "outputs": [
    {
     "name": "stdin",
     "output_type": "stream",
     "text": [
      "Enter a string: EXAM\n"
     ]
    },
    {
     "name": "stdout",
     "output_type": "stream",
     "text": [
      "MAXE\n"
     ]
    }
   ],
   "source": [
    "string = str(input(\"Enter a string:\"))\n",
    "new_string = string[::-1]\n",
    "print(new_string)"
   ]
  },
  {
   "cell_type": "markdown",
   "id": "065bb514-b6c1-455c-a132-fdb77a053788",
   "metadata": {},
   "source": [
    "# 5. Write a Python program that accepts a string from user. Your program should create a new string byshifting one position to left.\n",
    "## For example if the user enters the string 'examination 2021' then new string would be 'xamination 2021e'"
   ]
  },
  {
   "cell_type": "code",
   "execution_count": 28,
   "id": "72f2227f-1d40-41d5-b4ad-570dd047a50c",
   "metadata": {},
   "outputs": [
    {
     "name": "stdin",
     "output_type": "stream",
     "text": [
      "Enter a string: examination 2021\n"
     ]
    },
    {
     "name": "stdout",
     "output_type": "stream",
     "text": [
      "The new string is: xamination 2021e\n"
     ]
    }
   ],
   "source": [
    "string = input(\"Enter a string:\")\n",
    "len_string = len(string)\n",
    "new_string = string[1:len_string+1] + string[0]\n",
    "print(\"The new string is:\",new_string)"
   ]
  },
  {
   "cell_type": "markdown",
   "id": "050c9e94-405d-4d3b-8587-048184132455",
   "metadata": {},
   "source": [
    "# 6. Write a program that asks the user to input his name and print its initials. Assuming that the user always types first name, middle name and last name and does not include any unnecessary spaces.\n",
    "## For example, if the user enters Ajay Kumar Garg the program should display A. K. G. Note:Don't use split() method"
   ]
  },
  {
   "cell_type": "code",
   "execution_count": 39,
   "id": "371ca52a-d8fc-4ea9-bc18-89f3d554d992",
   "metadata": {},
   "outputs": [
    {
     "name": "stdin",
     "output_type": "stream",
     "text": [
      "Enter your Full Name(First,Middle,Last): osaid ali khan\n"
     ]
    },
    {
     "name": "stdout",
     "output_type": "stream",
     "text": [
      "The initials are: O. A. K. \n"
     ]
    }
   ],
   "source": [
    "name = str(input(\"Enter your Full Name(First,Middle,Last):\"))\n",
    "initials = \"\"\n",
    "for i in range(len(name)):\n",
    "    if i == 0 or name[i-1] == ' ':\n",
    "        initials += name[i].upper() + \". \"\n",
    "print(\"The initials are:\",initials)"
   ]
  },
  {
   "cell_type": "markdown",
   "id": "a607334d-81c8-4e59-befa-0df4e602d1c6",
   "metadata": {},
   "source": [
    "# 7. A palindrome is a string that reads the same backward as forward. For example, the words dad,madam and radar are all palindromes. Write a programs that determines whether the string is a palindrome.\n",
    "## Note: do not use reverse() method"
   ]
  },
  {
   "cell_type": "code",
   "execution_count": 76,
   "id": "68f58fb1-741b-4a25-8344-b32456c54dba",
   "metadata": {},
   "outputs": [
    {
     "name": "stdin",
     "output_type": "stream",
     "text": [
      "Enter a string: radar\n"
     ]
    },
    {
     "name": "stdout",
     "output_type": "stream",
     "text": [
      "The string is a palidrome!\n"
     ]
    }
   ],
   "source": [
    "string = str(input(\"Enter a string:\"))\n",
    "reverse_string = string[::-1]\n",
    "if string == reverse_string:\n",
    "    print(\"The string is a palidrome!\")\n",
    "else:\n",
    "    print(\"The string is not a palidrome!\")"
   ]
  },
  {
   "cell_type": "markdown",
   "id": "203e855a-fed4-4a05-855b-3e98eb76de6c",
   "metadata": {},
   "source": [
    "# 8. Write a program that display following output:\n",
    "### SHIFT\n",
    "### HIFTS\n",
    "### IFTSH\n",
    "### FTSHI\n",
    "### TSHIF\n",
    "### SHIFT"
   ]
  },
  {
   "cell_type": "code",
   "execution_count": 50,
   "id": "23f81fdc-93e0-4491-b370-1c61cd3f043f",
   "metadata": {},
   "outputs": [
    {
     "name": "stdin",
     "output_type": "stream",
     "text": [
      "Enter a string: SHIFT\n"
     ]
    },
    {
     "name": "stdout",
     "output_type": "stream",
     "text": [
      "SHIFT\n",
      "HIFTS\n",
      "IFTSH\n",
      "FTSHI\n",
      "TSHIF\n",
      "SHIFT\n"
     ]
    }
   ],
   "source": [
    "string = str(input(\"Enter a string:\"))\n",
    "length_of_string = len(string)\n",
    "for i in range(length_of_string):\n",
    "    string_shifted = string[i:] + string[:i]\n",
    "    print(string_shifted)\n",
    "print(string)"
   ]
  },
  {
   "cell_type": "markdown",
   "id": "4a955ef7-052e-4499-9d5d-2f7c4c084535",
   "metadata": {},
   "source": [
    "# 9. Write a program in python that accepts a string to setup a passwords. Your entered password must meet the following requirements:\n",
    "### The password must be at least eight characters long.\n",
    "### It must contain at least one uppercase letter.\n",
    "### It must contain at least one lowercase letter.\n",
    "### It must contain at least one numeric digit.\n",
    "### Your program should should perform this validation."
   ]
  },
  {
   "cell_type": "code",
   "execution_count": 58,
   "id": "d71eeaa6-1085-4172-9a63-c02c3523c936",
   "metadata": {},
   "outputs": [
    {
     "name": "stdin",
     "output_type": "stream",
     "text": [
      "Enter your password: Osaid1106\n"
     ]
    },
    {
     "name": "stdout",
     "output_type": "stream",
     "text": [
      "Your password is valid!\n"
     ]
    }
   ],
   "source": [
    "password = input(\"Enter your password:\")\n",
    "if len(password) <8:\n",
    "    print(\"Your password must be of 8 characters!\")\n",
    "else:\n",
    "    if not (char.isupper() for char in password):\n",
    "        print(\"Password must contain at least one uppercase letter.\")\n",
    "    if not (char.islower() for char in password):\n",
    "        print(\"Password must contain at least one lowercase letter.\")\n",
    "    if not (char.isdigit() for char in password):\n",
    "        print(\"Password must contain at least one numeric digit.\")\n",
    "        \n",
    "print(\"Your password is valid!\")"
   ]
  }
 ],
 "metadata": {
  "kernelspec": {
   "display_name": "Python 3 (ipykernel)",
   "language": "python",
   "name": "python3"
  },
  "language_info": {
   "codemirror_mode": {
    "name": "ipython",
    "version": 3
   },
   "file_extension": ".py",
   "mimetype": "text/x-python",
   "name": "python",
   "nbconvert_exporter": "python",
   "pygments_lexer": "ipython3",
   "version": "3.12.7"
  }
 },
 "nbformat": 4,
 "nbformat_minor": 5
}
