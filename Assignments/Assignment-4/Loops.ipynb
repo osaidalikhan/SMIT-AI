{
 "cells": [
  {
   "cell_type": "markdown",
   "id": "afda2b9c-69a5-4b39-9f45-b5c1baca17e8",
   "metadata": {},
   "source": [
    "### 1. Write a Python program to print the numbers from 1 to 10 using a for loop."
   ]
  },
  {
   "cell_type": "code",
   "execution_count": 1,
   "id": "aeaa9a9f-9ace-48c3-b803-6da3a31bfb21",
   "metadata": {},
   "outputs": [
    {
     "name": "stdout",
     "output_type": "stream",
     "text": [
      "1\n",
      "2\n",
      "3\n",
      "4\n",
      "5\n",
      "6\n",
      "7\n",
      "8\n",
      "9\n",
      "10\n"
     ]
    }
   ],
   "source": [
    "for i in range(1,11):\n",
    "    print(i)"
   ]
  },
  {
   "cell_type": "markdown",
   "id": "a0acb6f5-8e6f-4b9e-bacf-8f5c0eb72741",
   "metadata": {},
   "source": [
    "### 2. Write a Python program to print the numbers from 20 to 1 using a while loop."
   ]
  },
  {
   "cell_type": "code",
   "execution_count": 5,
   "id": "41dfe326-2c64-4000-8981-f79b3a85ff67",
   "metadata": {},
   "outputs": [
    {
     "name": "stdout",
     "output_type": "stream",
     "text": [
      "20\n",
      "19\n",
      "18\n",
      "17\n",
      "16\n",
      "15\n",
      "14\n",
      "13\n",
      "12\n",
      "11\n",
      "10\n",
      "9\n",
      "8\n",
      "7\n",
      "6\n",
      "5\n",
      "4\n",
      "3\n",
      "2\n",
      "1\n"
     ]
    }
   ],
   "source": [
    "i = 20\n",
    "while i!=0:\n",
    "    print(i)\n",
    "    i -= 1\n",
    "    if(i == 0):\n",
    "        break"
   ]
  },
  {
   "cell_type": "markdown",
   "id": "e107897a-556b-4642-a904-275b68d3a157",
   "metadata": {},
   "source": [
    "### 3. Write a program to print even numbers from 1 to 10."
   ]
  },
  {
   "cell_type": "code",
   "execution_count": 7,
   "id": "0c2a8d18-a7a4-4ebf-878d-0f61be3a001f",
   "metadata": {},
   "outputs": [
    {
     "name": "stdout",
     "output_type": "stream",
     "text": [
      "2\n",
      "4\n",
      "6\n",
      "8\n",
      "10\n"
     ]
    }
   ],
   "source": [
    "for i in range(1,11):\n",
    "    if( i % 2 == 0):\n",
    "        print(i)"
   ]
  },
  {
   "cell_type": "markdown",
   "id": "76ec2dc0-84ab-46ec-a671-cb6580d8722f",
   "metadata": {},
   "source": [
    "### 4. Write a program that prompts the user to enter a number n and prints all the numbers from 1 to n."
   ]
  },
  {
   "cell_type": "code",
   "execution_count": 9,
   "id": "18442294-a85e-4185-9169-22b96dd0e1f6",
   "metadata": {},
   "outputs": [
    {
     "name": "stdin",
     "output_type": "stream",
     "text": [
      "enter the number: 9\n"
     ]
    },
    {
     "name": "stdout",
     "output_type": "stream",
     "text": [
      "1\n",
      "2\n",
      "3\n",
      "4\n",
      "5\n",
      "6\n",
      "7\n",
      "8\n",
      "9\n"
     ]
    }
   ],
   "source": [
    "n = int(input(\"enter the number:\"))\n",
    "for i in range(1,n+1):\n",
    "    print(i)"
   ]
  },
  {
   "cell_type": "markdown",
   "id": "73f96add-3018-4c98-97dc-cf1426ac5f6c",
   "metadata": {},
   "source": [
    "### 5. Write a program that prompts the user to enter a number n, and then prints all the odd numbers between 1 and n."
   ]
  },
  {
   "cell_type": "code",
   "execution_count": 13,
   "id": "b0025f82-227a-490c-941f-da56b340051a",
   "metadata": {},
   "outputs": [
    {
     "name": "stdin",
     "output_type": "stream",
     "text": [
      "enter the number: 12\n"
     ]
    },
    {
     "name": "stdout",
     "output_type": "stream",
     "text": [
      "1\n",
      "3\n",
      "5\n",
      "7\n",
      "9\n",
      "11\n"
     ]
    }
   ],
   "source": [
    "n = int(input(\"enter the number:\"))\n",
    "for i in range(1,n):\n",
    "    if( i % 2 != 0):\n",
    "        print(i)\n",
    "    else: \n",
    "        pass"
   ]
  },
  {
   "cell_type": "markdown",
   "id": "ce268582-db2e-418d-8d79-c787611f95e7",
   "metadata": {},
   "source": [
    "### 6. Write a program that prints 'Happy Birthday!' five times on screen."
   ]
  },
  {
   "cell_type": "code",
   "execution_count": 15,
   "id": "45cd579f-eeb2-405b-a282-c951ae0a022c",
   "metadata": {},
   "outputs": [
    {
     "name": "stdout",
     "output_type": "stream",
     "text": [
      "Happy Birthday!\n",
      "Happy Birthday!\n",
      "Happy Birthday!\n",
      "Happy Birthday!\n",
      "Happy Birthday!\n"
     ]
    }
   ],
   "source": [
    "for i in range(5):\n",
    "    print(\"Happy Birthday!\")"
   ]
  },
  {
   "cell_type": "markdown",
   "id": "021676b1-45b1-4f55-a2f6-2076d2ee873e",
   "metadata": {},
   "source": [
    "### 7. Write a program that takes a number n as input from the user and generates the first n terms of the series formed by squaring the natural numbers.\n",
    "       - Sample output\n",
    "       - Enter a number: 6\n",
    "       - The first 6 terms of the series are:\n",
    "       - 1 4 9 16 25 36"
   ]
  },
  {
   "cell_type": "code",
   "execution_count": 17,
   "id": "83c17ac8-3c7f-4811-b429-5eac0f84edc9",
   "metadata": {},
   "outputs": [
    {
     "name": "stdin",
     "output_type": "stream",
     "text": [
      "enter the number: 6\n"
     ]
    },
    {
     "name": "stdout",
     "output_type": "stream",
     "text": [
      "1 4 9 16 25 36 "
     ]
    }
   ],
   "source": [
    "n = int(input(\"enter the number:\"))\n",
    "for i in range(1,n+1):\n",
    "    print(i*i,end=' ')"
   ]
  },
  {
   "cell_type": "markdown",
   "id": "3fedf2f9-3d10-421e-8162-4d729e4c1afd",
   "metadata": {},
   "source": [
    "### 8. Write a program that prompts the user to input a number and prints its multiplication table."
   ]
  },
  {
   "cell_type": "code",
   "execution_count": 21,
   "id": "6c21664d-98c9-47a3-ba00-cf8aa7117c35",
   "metadata": {},
   "outputs": [
    {
     "name": "stdin",
     "output_type": "stream",
     "text": [
      "enter a number:  8\n"
     ]
    },
    {
     "name": "stdout",
     "output_type": "stream",
     "text": [
      "8 x 1 = 8\n",
      "8 x 2 = 16\n",
      "8 x 3 = 24\n",
      "8 x 4 = 32\n",
      "8 x 5 = 40\n",
      "8 x 6 = 48\n",
      "8 x 7 = 56\n",
      "8 x 8 = 64\n",
      "8 x 9 = 72\n",
      "8 x 10 = 80\n",
      "8 x 11 = 88\n",
      "8 x 12 = 96\n"
     ]
    }
   ],
   "source": [
    "n = int(input(\"enter a number: \"))\n",
    "for i in range(1,13):\n",
    "    print(f\"{n} x {i} = {n*i}\")"
   ]
  },
  {
   "cell_type": "markdown",
   "id": "91379e1a-449f-4070-add2-28b8cb662032",
   "metadata": {},
   "source": [
    "### 9. Write a Python program to print the first 8 terms of an arithmetic progression starting with 3 and having a common difference of 4.\n",
    "### The program should output the following sequence:\n",
    "        - 3 7 11 15 19 23 27 31"
   ]
  },
  {
   "cell_type": "code",
   "execution_count": 23,
   "id": "391373dc-de37-4a4f-b257-0072fb8fe3cf",
   "metadata": {},
   "outputs": [
    {
     "name": "stdout",
     "output_type": "stream",
     "text": [
      "3 7 11 15 19 23 27 31 "
     ]
    }
   ],
   "source": [
    "# An = A1 + (n-1)*d\n",
    "An = 0\n",
    "A1 = 3\n",
    "n = 1\n",
    "d = 4\n",
    "for i in range(8):\n",
    "    An = A1 + (n - 1) * d\n",
    "    n += 1\n",
    "    print(An,end=' ')"
   ]
  },
  {
   "cell_type": "markdown",
   "id": "b92eb3e0-6552-44dc-8178-4e0c35e32812",
   "metadata": {},
   "source": [
    "### 10. Write a Python program to print the first 6 terms of a geometric sequence starting with 2 and having a common ratio of 3.\n",
    "### The program should output the following sequence:\n",
    "        - 2 6 18 54 162 486"
   ]
  },
  {
   "cell_type": "code",
   "execution_count": 31,
   "id": "8192c580-d7bd-4bf2-89f6-6dd2d96602d2",
   "metadata": {},
   "outputs": [
    {
     "name": "stdout",
     "output_type": "stream",
     "text": [
      "2\n",
      "6\n",
      "18\n",
      "54\n",
      "162\n",
      "486\n"
     ]
    }
   ],
   "source": [
    "# a + a*r + a*r*r + ....\n",
    "\n",
    "a = 2\n",
    "r = 3\n",
    "result = 0\n",
    "for i in range(6):\n",
    "    result = a*r**i\n",
    "    print(result)"
   ]
  },
  {
   "cell_type": "markdown",
   "id": "c006f178-ff93-466f-b301-e5f4865af752",
   "metadata": {},
   "source": [
    "### 11. Write a program that asks the user for a positive integer value. The program should calculate the sum of all the integers from 1 up to the number entered. For example, if the user enters 20, the loop will find the sum of 1, 2, 3, 4, ... 20."
   ]
  },
  {
   "cell_type": "code",
   "execution_count": 35,
   "id": "32802939-0c1d-450a-94c7-2bdbd22dc599",
   "metadata": {},
   "outputs": [
    {
     "name": "stdin",
     "output_type": "stream",
     "text": [
      "enter the number:  10\n"
     ]
    },
    {
     "name": "stdout",
     "output_type": "stream",
     "text": [
      "55\n"
     ]
    }
   ],
   "source": [
    "n = int(input(\"enter the number: \"))\n",
    "res = 0\n",
    "for i in range(1,n+1):\n",
    "    res += i\n",
    "print(res)"
   ]
  },
  {
   "cell_type": "markdown",
   "id": "8b223e2e-0fed-4405-b9c0-dd01662f3bc3",
   "metadata": {},
   "source": [
    "### 12. write a program that takes a positive integer N as input and calculates the sum of the reciprocals of all numbers from 1 up to N. The program should display the final sum.\n",
    "       - Output of the program should be like:\n",
    "       - Enter a positive integer: 5\n",
    "       - The sum of reciprocals from 1 to 5 is: 2.28"
   ]
  },
  {
   "cell_type": "code",
   "execution_count": 36,
   "id": "ec62f10d-48d6-4892-962b-c5c4e1287ac5",
   "metadata": {},
   "outputs": [
    {
     "name": "stdin",
     "output_type": "stream",
     "text": [
      "enter the number:  5\n"
     ]
    },
    {
     "name": "stdout",
     "output_type": "stream",
     "text": [
      "2.283333333333333\n"
     ]
    }
   ],
   "source": [
    "n = int(input(\"enter the number: \"))\n",
    "res = 0\n",
    "for i in range(1,n+1):\n",
    "    res += 1/i\n",
    "print(res)"
   ]
  },
  {
   "cell_type": "markdown",
   "id": "142fd8f5-47fc-4c26-a7ee-664b92dba9e8",
   "metadata": {},
   "source": [
    "### 13. Write a program that prompts the user to enter a number and repeats this process 5 times. The program should accumulate the numbers entered and then display the final running total.\n",
    "        - Sample Output:\n",
    "        - Enter a number: 10\n",
    "        - Enter a number: 15\n",
    "        - Enter a number: 35\n",
    "        - Enter a number: 40\n",
    "        - Enter a number: 50\n",
    "        - The final running total is: 150"
   ]
  },
  {
   "cell_type": "code",
   "execution_count": 33,
   "id": "94937d2d-b106-4427-92d9-66221919653a",
   "metadata": {},
   "outputs": [
    {
     "name": "stdin",
     "output_type": "stream",
     "text": [
      "enter the number:  10\n",
      "enter the number:  15\n",
      "enter the number:  35\n",
      "enter the number:  40\n",
      "enter the number:  50\n"
     ]
    },
    {
     "name": "stdout",
     "output_type": "stream",
     "text": [
      "The final running total is: 150\n"
     ]
    }
   ],
   "source": [
    "res = 0\n",
    "for i in range(5):\n",
    "    n = int(input(\"enter the number: \"))\n",
    "    res += n\n",
    "print(f\"The final running total is: {res}\")"
   ]
  },
  {
   "cell_type": "markdown",
   "id": "3a567333-e528-43b4-bbf9-734d952e21df",
   "metadata": {},
   "source": [
    "### 14. Write a program that prompts the user to enter a positive integer and calculates its factorial. The factorial of a positive integer 'n' is denoted as 'n!' and is calculated by multiplying all the integers from 1 to 'n' together. For example, the factorial of 5 (denoted as 5!) is calculated as 1 x 2 x 3 x 4 x 5. The program should display the factorial value if the input is a positive number, or display a message stating that the factorial does not exist for negative numbers. Additionally, for an input of zero, the program should output that the factorial of 0 is 1."
   ]
  },
  {
   "cell_type": "code",
   "execution_count": 48,
   "id": "dd2a1ed8-7669-4c02-ae51-c0e7d82d3f64",
   "metadata": {},
   "outputs": [
    {
     "name": "stdin",
     "output_type": "stream",
     "text": [
      "Enter a number:  5\n"
     ]
    },
    {
     "name": "stdout",
     "output_type": "stream",
     "text": [
      "Factorial of 5 is 120\n"
     ]
    }
   ],
   "source": [
    "number = int(input(\"Enter a number: \"))\n",
    "factorial = 1\n",
    "\n",
    "if number == 0 or number == 1:\n",
    "    factorial = 1\n",
    "else:\n",
    "    for i in range(1, number + 1):\n",
    "        factorial *= i\n",
    "\n",
    "print(\"Factorial of\", number, \"is\", factorial)\n"
   ]
  },
  {
   "cell_type": "markdown",
   "id": "55897af9-4960-438e-b37c-196b02be4703",
   "metadata": {},
   "source": [
    "### 15. Write a Python program that prompts the user to enter a base number and an exponent, and then calculates the power of the base to the exponent. The program should not use the exponentiation operator (**) or the math.pow() function. The program should handle both positive and negative exponents."
   ]
  },
  {
   "cell_type": "code",
   "execution_count": 60,
   "id": "4f5d8d07-8b7c-41d2-833c-8cbed7415ffb",
   "metadata": {},
   "outputs": [
    {
     "name": "stdin",
     "output_type": "stream",
     "text": [
      "Enter the base:  2\n",
      "Enter the exponent:  0\n"
     ]
    },
    {
     "name": "stdout",
     "output_type": "stream",
     "text": [
      "Result: 1\n"
     ]
    }
   ],
   "source": [
    "\n",
    "base = int(input(\"Enter the base: \"))\n",
    "exponent = int(input(\"Enter the exponent: \"))\n",
    "res = 1\n",
    "\n",
    "if exponent < 0:\n",
    "    for i in range(-exponent):\n",
    "        res *= (base)\n",
    "else:\n",
    "    for i in range(exponent):\n",
    "        res *= base\n",
    "\n",
    "print(\"Result:\", res)\n",
    "\n",
    "    "
   ]
  }
 ],
 "metadata": {
  "kernelspec": {
   "display_name": "Python 3 (ipykernel)",
   "language": "python",
   "name": "python3"
  },
  "language_info": {
   "codemirror_mode": {
    "name": "ipython",
    "version": 3
   },
   "file_extension": ".py",
   "mimetype": "text/x-python",
   "name": "python",
   "nbconvert_exporter": "python",
   "pygments_lexer": "ipython3",
   "version": "3.12.7"
  }
 },
 "nbformat": 4,
 "nbformat_minor": 5
}
