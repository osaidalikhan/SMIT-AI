{
 "cells": [
  {
   "cell_type": "markdown",
   "id": "62fc006a-41b5-497f-a76f-a2fb4aebbde6",
   "metadata": {},
   "source": [
    "### 1. Write a program that prompts the user to input a number and display if the number is even or odd."
   ]
  },
  {
   "cell_type": "code",
   "execution_count": 3,
   "id": "a189b69a-c8cd-4e43-a477-4d8f9a635fa1",
   "metadata": {},
   "outputs": [
    {
     "name": "stdin",
     "output_type": "stream",
     "text": [
      "enter the number: 7\n"
     ]
    },
    {
     "name": "stdout",
     "output_type": "stream",
     "text": [
      "7 is an odd number!\n"
     ]
    }
   ],
   "source": [
    "number = int(input(\"enter the number:\"))\n",
    "if (number%2==0):\n",
    "    print(f\"{number} is an even number!\")\n",
    "else:\n",
    "    print(f\"{number} is an odd number!\")"
   ]
  },
  {
   "cell_type": "markdown",
   "id": "8d85a729-30f6-4ebe-b3c5-efb1f82f395f",
   "metadata": {},
   "source": [
    "### 2. Write a Python program that takes an age as input and determines whether a person is eligible to vote. If the age is 18 or above, print \"You are eligible to vote.\" Otherwise, print \"You are not eligible to vote yet.\"."
   ]
  },
  {
   "cell_type": "code",
   "execution_count": 5,
   "id": "86ef4163-1b05-43a1-b922-519abb56b6b4",
   "metadata": {},
   "outputs": [
    {
     "name": "stdin",
     "output_type": "stream",
     "text": [
      "enter your age: 19\n"
     ]
    },
    {
     "name": "stdout",
     "output_type": "stream",
     "text": [
      "You are eligible to vote!\n"
     ]
    }
   ],
   "source": [
    "age = int(input(\"enter your age:\"))\n",
    "if (age >= 18 ):\n",
    "    print(\"You are eligible to vote!\")\n",
    "else:\n",
    "    print(\"You are not eligible to vote!\")"
   ]
  },
  {
   "cell_type": "markdown",
   "id": "afc1a491-1a8a-49cf-8e9a-e8e1d2504264",
   "metadata": {},
   "source": [
    "### 3. Write a program that prompts the user to input two integers and outputs the largest."
   ]
  },
  {
   "cell_type": "code",
   "execution_count": 7,
   "id": "91f3de4f-665b-4e57-9936-345a6851fa86",
   "metadata": {},
   "outputs": [
    {
     "name": "stdin",
     "output_type": "stream",
     "text": [
      "enter the first number: 18\n",
      "enter the second number: 17\n"
     ]
    },
    {
     "name": "stdout",
     "output_type": "stream",
     "text": [
      "18 is greater than 17\n"
     ]
    }
   ],
   "source": [
    "number1 = int(input(\"enter the first number:\"))\n",
    "number2 = int(input(\"enter the second number:\"))\n",
    "if (number1 > number2):\n",
    "    print(f\"{number1} is greater than {number2}\")\n",
    "elif (number1 < number2):\n",
    "    print(f\"{number2} is greater than {number1}\")\n",
    "else:\n",
    "    print(f\"{number1} is equal to {number2}\")"
   ]
  },
  {
   "cell_type": "markdown",
   "id": "8cc7d0c9-f7bb-43f0-85c8-bc6e8afc4aad",
   "metadata": {},
   "source": [
    "### 4. Write a program that prompts the user to enter a number and determines whether it is positive, negative, or zero. The program should print \"Positive\" if the number is greater than 0, \"Negative\" if the number is less than 0, and \"Zero\" if the number is 0."
   ]
  },
  {
   "cell_type": "code",
   "execution_count": 9,
   "id": "32683036-8090-49ae-b898-a950e0616a8d",
   "metadata": {},
   "outputs": [
    {
     "name": "stdin",
     "output_type": "stream",
     "text": [
      "enter the number:  8\n"
     ]
    },
    {
     "name": "stdout",
     "output_type": "stream",
     "text": [
      "8 is a positive number!\n"
     ]
    }
   ],
   "source": [
    "number = int(input(\"enter the number: \"))\n",
    "if (number > 0 ):\n",
    "    print(f\"{number} is a positive number!\")\n",
    "elif (number < 0 ):\n",
    "    print(f\"{number} is a negative number!\")\n",
    "else:\n",
    "    print(\"Input number is Zero!\")"
   ]
  },
  {
   "cell_type": "markdown",
   "id": "63202e05-8395-425e-baa0-870f2f2427fb",
   "metadata": {},
   "source": [
    "### 5. Write a program that prompts the user to enter their age and prints the corresponding age group. The program should use the following age groups:\n",
    "### 0-12: Child\n",
    "### 13-19: Teenager\n",
    "### 20-59: Adult\n",
    "### 60 and above: Senior Citizen"
   ]
  },
  {
   "cell_type": "code",
   "execution_count": 11,
   "id": "3125d87b-ab54-401d-9404-2d17a7516e08",
   "metadata": {},
   "outputs": [
    {
     "name": "stdin",
     "output_type": "stream",
     "text": [
      "enter your age:  19\n"
     ]
    },
    {
     "name": "stdout",
     "output_type": "stream",
     "text": [
      "Teenager\n"
     ]
    }
   ],
   "source": [
    "age = int(input(\"enter your age: \"))\n",
    "if (age < 0):\n",
    "    print(\"age cannot be negative!\")\n",
    "elif (age >= 0 and age <= 12):\n",
    "    print(\"CHILD\")\n",
    "elif (age >= 13 and age <= 19):\n",
    "    print(\"Teenager\")\n",
    "elif (age >= 20 and age <= 59):\n",
    "    print(\"Adult\")\n",
    "else:\n",
    "    print(\"Senior Citizen\")"
   ]
  },
  {
   "cell_type": "markdown",
   "id": "beea3148-0ab1-4734-bf27-9b02c48748bf",
   "metadata": {},
   "source": [
    "### 6. Write a program that prompts the user to input a number from 1 to 7. The program should display the corresponding day for the given number. For example, if the user types 1, the output should be Sunday. If the user types 7, the output should be Saturday. If the number is not between 1 to 7 user should get error message as shown in sample output."
   ]
  },
  {
   "cell_type": "code",
   "execution_count": 1,
   "id": "3d950400-2797-4605-895e-18015c287cbd",
   "metadata": {},
   "outputs": [
    {
     "name": "stdin",
     "output_type": "stream",
     "text": [
      "enter your number: 1\n"
     ]
    },
    {
     "name": "stdout",
     "output_type": "stream",
     "text": [
      "Sunday\n"
     ]
    }
   ],
   "source": [
    "number = int(input(\"enter your number:\"))\n",
    "if (number == 1):\n",
    "    print(\"Sunday\")\n",
    "elif (number == 2):\n",
    "    print(\"Monday\")\n",
    "elif (number == 3):\n",
    "    print(\"Tuesday\")\n",
    "elif (number == 4):\n",
    "    print(\"Wednesday\")\n",
    "elif (number == 5):\n",
    "    print(\"Thursday\")\n",
    "elif (number == 6):\n",
    "    print(\"Friday\")\n",
    "elif (number == 7):\n",
    "    print(\"Saturday\")\n",
    "else:\n",
    "    print(\"Invalid Input!\")"
   ]
  },
  {
   "cell_type": "markdown",
   "id": "be26589c-7022-42b2-a476-fd275e650c35",
   "metadata": {},
   "source": [
    "### 7. Write a program that prompts the user to enter their weight (in kilograms) and height (in meters). The program should calculate the Body Mass Index (BMI) using the formula:\n",
    "### BMI = weight / (height * height). The program should then classify the BMI into one of the following categories:\n",
    "       - less than 18.5 - Underweight\n",
    "       - BMI between 18.5 and 24.9 - Normal weight\n",
    "       - BMI between 25 and 29.9 - Overweight\n",
    "       - BMI 30 or greater - Obesity"
   ]
  },
  {
   "cell_type": "code",
   "execution_count": 29,
   "id": "b43b09d5-dd8d-4823-8bc6-0675e6d47e93",
   "metadata": {},
   "outputs": [
    {
     "name": "stdin",
     "output_type": "stream",
     "text": [
      "enter your weight in Kilograms 65\n",
      "enter your height in meters 1.72\n"
     ]
    },
    {
     "name": "stdout",
     "output_type": "stream",
     "text": [
      "21.971335857220122 is your BMI\n",
      "Normal Weight\n"
     ]
    }
   ],
   "source": [
    "weight = float(input(\"enter your weight in Kilograms\"))\n",
    "height = float(input(\"enter your height in meters\"))\n",
    "BMI = weight / (height*height)\n",
    "if (BMI < 18.5):\n",
    "    print(f\"{BMI} is your BMI\")\n",
    "    print(\"Underweight\")\n",
    "elif (BMI >= 18.5 and BMI <= 24.9):\n",
    "    print(f\"{BMI} is your BMI\")\n",
    "    print(\"Normal Weight\")\n",
    "elif (BMI >= 25 and BMI <= 29.9):\n",
    "    print(f\"{BMI} is your BMI\")\n",
    "    print(\"OverWeight\")\n",
    "elif (BMI >= 30):\n",
    "    print(f\"{BMI} is your BMI\")\n",
    "    print(\"Obesity\")\n"
   ]
  },
  {
   "cell_type": "markdown",
   "id": "4e8cab95-eb83-4fd8-be1e-c4801e111a69",
   "metadata": {},
   "source": [
    "### 8. The marks obtained by a student in 3 different subjects are input by the user. Your program should calculate the average of subjects and display the grade. The student gets a grade as per the following rules:\n",
    "           - Average Grade\n",
    "           - 90-100 A\n",
    "           - 80-89 B\n",
    "           - 70-79 C\n",
    "           - 60-69 D\n",
    "           - 0-59 F"
   ]
  },
  {
   "cell_type": "code",
   "execution_count": 31,
   "id": "b641dcf2-66c0-4954-be73-fd4733d6f221",
   "metadata": {},
   "outputs": [
    {
     "name": "stdin",
     "output_type": "stream",
     "text": [
      "enter your marks:  87\n",
      "enter your marks:  96\n",
      "enter your marks:  92\n"
     ]
    },
    {
     "name": "stdout",
     "output_type": "stream",
     "text": [
      "your average is 91.66666666666667\n",
      "Your grade is 'A''\n"
     ]
    }
   ],
   "source": [
    "eng = float(input(\"enter your marks: \"))\n",
    "maths = float(input(\"enter your marks: \"))\n",
    "urdu = float(input(\"enter your marks: \"))\n",
    "average = (eng + maths + urdu)/3\n",
    "if ( average <= 59):\n",
    "    print(f\"your average is {average}\")\n",
    "    print(\"Your grade is 'F''\")\n",
    "elif ( average > 59 and average < 70):\n",
    "    print(f\"your average is {average}\")\n",
    "    print(\"Your grade is 'D''\")\n",
    "elif ( average >= 70 and average < 80):\n",
    "    print(f\"your average is {average}\")\n",
    "    print(\"Your grade is 'C''\")\n",
    "elif ( average >= 80 and average < 90):\n",
    "    print(f\"your average is {average}\")\n",
    "    print(\"Your grade is 'B''\")\n",
    "elif ( average >= 90 and average <= 100):\n",
    "    print(f\"your average is {average}\")\n",
    "    print(\"Your grade is 'A''\")\n",
    "else:\n",
    "    print(\"Invalid Marks!\")"
   ]
  },
  {
   "cell_type": "markdown",
   "id": "01c9c4d0-14bd-4f67-a047-5fbb7e60548e",
   "metadata": {},
   "source": [
    "### 9. The roots of the quadratic equation ax2 + bx + c = 0, a ≠ 0 are given by the following formula:\n",
    "#                 [-b +- underroot(b**2 - 4ac)]/2a\n",
    "### In this formula, the term b2 - 4ac is called the discriminant. If b2 - 4ac = 0, then the equation has two equal roots.\n",
    "### If b2 - 4ac > 0, the equation has two real roots. If b2 - 4ac < 0, the equation has tw complex roots.\n",
    "### Write a program that prompts the user to input the value of a (the coefficient of x2), b (the coefficient of x), and c (the constant term) and outputs the roots of the quadratic equation."
   ]
  },
  {
   "cell_type": "code",
   "execution_count": 46,
   "id": "87d92559-5231-4ba3-9881-918ca3603b7c",
   "metadata": {},
   "outputs": [
    {
     "name": "stdin",
     "output_type": "stream",
     "text": [
      "enter coefficieant of x^2 1\n",
      "enter coefficieant of x 2\n",
      "enter constant term 31\n"
     ]
    },
    {
     "name": "stdout",
     "output_type": "stream",
     "text": [
      "Roots are Complex\n",
      "x1 = (-1+5.477225575051661j) and x2 = (-1-5.477225575051661j)\n"
     ]
    }
   ],
   "source": [
    "import cmath\n",
    "a = int(input(\"enter coefficieant of x^2\"))\n",
    "b = int(input(\"enter coefficieant of x\"))\n",
    "c = int(input(\"enter constant term\"))\n",
    "\n",
    "discriminant = (b**2) - (4*a*c)\n",
    "# print(discriminant)\n",
    "sqrt = cmath.sqrt(discriminant)\n",
    "x1 = (-b + sqrt) / 2*a\n",
    "x2 = (-b - sqrt) / 2*a\n",
    "# print (x1,x2)\n",
    "if (discriminant == 0 ):\n",
    "    print(\"Roots are equal\")\n",
    "    print(f\"x1 = {x1} and x2 = {x2}\")\n",
    "elif (discriminant > 0 ):\n",
    "    print(\"Roots are Real\")\n",
    "    print(f\"x1 = {x1} and x2 = {x2}\")\n",
    "else:\n",
    "    print(\"Roots are Complex\")\n",
    "    print(f\"x1 = {x1} and x2 = {x2}\")"
   ]
  },
  {
   "cell_type": "markdown",
   "id": "573f3253-4bdd-47fd-a139-95a89d587a32",
   "metadata": {},
   "source": [
    "### 10. Write a program that prompts the user to enter three numbers and sorts them in ascending order. The program should print the sorted numbers."
   ]
  },
  {
   "cell_type": "code",
   "execution_count": 36,
   "id": "9620dcc3-c89d-45b3-bac9-f224eeec83ad",
   "metadata": {},
   "outputs": [
    {
     "name": "stdin",
     "output_type": "stream",
     "text": [
      "First number: 3\n",
      "Second number: 8\n",
      "Third number: 1\n"
     ]
    },
    {
     "name": "stdout",
     "output_type": "stream",
     "text": [
      "Numbers in ascending order: (1, 3, 8)\n"
     ]
    }
   ],
   "source": [
    "def sort_three_numbers(a, b, c):\n",
    "    if a > b:\n",
    "        a, b = b, a\n",
    "    if b > c:\n",
    "        b, c = c, b\n",
    "    if a > b:\n",
    "        a, b = b, a\n",
    "    return a,b,c    \n",
    "\n",
    "num1 = int(input(\"First number:\"))\n",
    "num2 = int(input(\"Second number:\"))\n",
    "num3 = int(input(\"Third number:\"))\n",
    "\n",
    "sorted_numbers = sort_three_numbers(num1, num2, num3)\n",
    "print(\"Numbers in ascending order:\",sorted_numbers)"
   ]
  },
  {
   "cell_type": "markdown",
   "id": "54a2f778-55e5-428c-97c8-48b452c76804",
   "metadata": {},
   "source": [
    "### 11. Write a program that prompts the user to input three integers and outputs the largest."
   ]
  },
  {
   "cell_type": "code",
   "execution_count": null,
   "id": "089a1fcc-42bc-4020-a69e-8e911443533b",
   "metadata": {},
   "outputs": [],
   "source": [
    "largest = 0\n",
    "for i in range(3):\n",
    "    number = int(input(\"enter the number: \"))\n",
    "    if(largest < number):\n",
    "        largest = number\n",
    "    else:\n",
    "        continue\n",
    "print(\"The Largest number is:\",largest)"
   ]
  },
  {
   "cell_type": "markdown",
   "id": "30f10a34-c29e-44c8-b914-01021a123540",
   "metadata": {},
   "source": [
    "### 12. Write a program that prompts the user to input a character and determine the character is vowel or consonant."
   ]
  },
  {
   "cell_type": "code",
   "execution_count": 19,
   "id": "7cab9d58-afa2-4ed7-9100-6fd5ed5b25b9",
   "metadata": {},
   "outputs": [
    {
     "name": "stdin",
     "output_type": "stream",
     "text": [
      "Enter a character:  a\n"
     ]
    },
    {
     "name": "stdout",
     "output_type": "stream",
     "text": [
      "a is a vowel.\n"
     ]
    }
   ],
   "source": [
    "\n",
    "char = input(\"Enter a character: \")\n",
    "\n",
    "# Check if the character is a vowel or consonant\n",
    "if char in 'aeiou':\n",
    "    print(f\"{char} is a vowel.\")\n",
    "elif char.isalpha():\n",
    "    print(f\"{char} is a consonant.\")\n",
    "else:\n",
    "    print(\"Invalid input. Please enter a letter.\")\n"
   ]
  },
  {
   "cell_type": "markdown",
   "id": "da40942b-c92b-4aa1-91fd-c046eed75515",
   "metadata": {},
   "source": [
    "### 13. Write a program that prompts the user to input a year and determine whether the year is a leap year or not. Leap Years are any year that can be evenly divided by 4. A year that is evenly divisible by 100 is a leap year only if it is also evenly divisible by 400. Example:\n",
    "       - 1992 Leap Year\n",
    "       - 2000 Leap Year\n",
    "       - 1900 NOT a Leap Year\n",
    "       - 1995 NOT a Leap Year"
   ]
  },
  {
   "cell_type": "code",
   "execution_count": 21,
   "id": "f081bb20-63c4-4151-b445-7b0e84f485d8",
   "metadata": {},
   "outputs": [
    {
     "name": "stdin",
     "output_type": "stream",
     "text": [
      "Enter a year:  2004\n"
     ]
    },
    {
     "name": "stdout",
     "output_type": "stream",
     "text": [
      "2004 is a leap year.\n"
     ]
    }
   ],
   "source": [
    "year = int(input(\"Enter a year: \"))\n",
    "\n",
    "if (year % 4 == 0 and year % 100 != 0) or (year % 400 == 0):\n",
    "    print(f\"{year} is a leap year.\")\n",
    "else:\n",
    "    print(f\"{year} is not a leap year.\")\n"
   ]
  },
  {
   "cell_type": "markdown",
   "id": "4d2c220b-0a4c-46da-85c8-79465eca0449",
   "metadata": {},
   "source": [
    "### 14. Write a program that prompts the user to input number of calls and calculate the monthly telephone bills as per the following rule:\n",
    "         -   Minimum Rs. 200 for up to 100 calls.\n",
    "         -   Plus Rs. 0.60 per call for next 50 calls.\n",
    "         -   Plus Rs. 0.50 per call for next 50 calls.\n",
    "         -   Plus Rs. 0.40 per call for any call beyond 200 calls."
   ]
  },
  {
   "cell_type": "code",
   "execution_count": 26,
   "id": "54053d27-848e-46d9-a35d-b76c45787d00",
   "metadata": {},
   "outputs": [
    {
     "name": "stdin",
     "output_type": "stream",
     "text": [
      "enter no of calls:  50\n"
     ]
    },
    {
     "name": "stdout",
     "output_type": "stream",
     "text": [
      "Your bill is 200 for 50 calls\n"
     ]
    }
   ],
   "source": [
    "calls = int(input(\"enter no of calls: \"))\n",
    "bill = 0\n",
    "if (calls > 0):\n",
    "    if (calls <= 100):\n",
    "        bill += 200\n",
    "    elif(calls > 100 and calls <= 150):\n",
    "        bill += 200\n",
    "        ad_calls = calls - 100\n",
    "        additional = ad_calls* 0.60\n",
    "        bill += additional\n",
    "    elif(calls > 150 and calls <= 200):\n",
    "        bill += 200\n",
    "        ad_calls = calls - 150\n",
    "        additional = ad_calls* 0.50\n",
    "        bill += additional\n",
    "    elif (calls > 200):\n",
    "        bill += 200\n",
    "        ad_calls = calls - 200\n",
    "        additional = ad_calls*0.40\n",
    "        bill += additional\n",
    "else:\n",
    "    print(\"Invalid Input!\")\n",
    "print(f\"Your bill is {bill} for {calls} calls\")"
   ]
  }
 ],
 "metadata": {
  "kernelspec": {
   "display_name": "Python 3 (ipykernel)",
   "language": "python",
   "name": "python3"
  },
  "language_info": {
   "codemirror_mode": {
    "name": "ipython",
    "version": 3
   },
   "file_extension": ".py",
   "mimetype": "text/x-python",
   "name": "python",
   "nbconvert_exporter": "python",
   "pygments_lexer": "ipython3",
   "version": "3.12.7"
  }
 },
 "nbformat": 4,
 "nbformat_minor": 5
}
