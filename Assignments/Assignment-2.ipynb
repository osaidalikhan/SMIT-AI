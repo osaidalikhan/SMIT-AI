{
 "cells": [
  {
   "cell_type": "markdown",
   "id": "69878a13-5c94-4f60-8296-426cca52e92e",
   "metadata": {},
   "source": [
    "# Question 1"
   ]
  },
  {
   "cell_type": "code",
   "execution_count": 6,
   "id": "748a1242-67d8-4a8e-81fe-a47a1d06a54d",
   "metadata": {},
   "outputs": [
    {
     "name": "stdin",
     "output_type": "stream",
     "text": [
      "Enter Length of the Rectangle: 11\n",
      "Enter Width of the Rectangle: 10\n"
     ]
    },
    {
     "name": "stdout",
     "output_type": "stream",
     "text": [
      "The Area of Rectangle is: 110.0\n"
     ]
    }
   ],
   "source": [
    "Length = float(input(\"Enter Length of the Rectangle:\"))\n",
    "Width = float(input(\"Enter Width of the Rectangle:\"))\n",
    "Result = Length * Width\n",
    "print(\"The Area of Rectangle is:\",Result)"
   ]
  },
  {
   "cell_type": "markdown",
   "id": "5c902d03-4dd0-4532-beb5-50ddd13d0bc2",
   "metadata": {},
   "source": [
    "# Question 2"
   ]
  },
  {
   "cell_type": "code",
   "execution_count": 13,
   "id": "6e73854d-abe7-46eb-b8b9-196b86fccd3d",
   "metadata": {},
   "outputs": [
    {
     "name": "stdin",
     "output_type": "stream",
     "text": [
      "Enter radius of the Circle: 2.67\n"
     ]
    },
    {
     "name": "stdout",
     "output_type": "stream",
     "text": [
      "The Circumference of Circle is: 16.7676\n"
     ]
    }
   ],
   "source": [
    "Radius = float(input(\"Enter radius of the Circle:\"))\n",
    "Pi = 3.14\n",
    "Circumference = 2 * Pi * Radius\n",
    "print(\"The Circumference of Circle is:\",Circumference)"
   ]
  },
  {
   "cell_type": "markdown",
   "id": "cee4cf97-010c-4027-8916-00168c86724c",
   "metadata": {},
   "source": [
    "# Question 3"
   ]
  },
  {
   "cell_type": "code",
   "execution_count": 15,
   "id": "fcd32478-4c24-4d7f-8bd4-6ec243d15cc6",
   "metadata": {},
   "outputs": [
    {
     "name": "stdin",
     "output_type": "stream",
     "text": [
      "Enter Principle: 2500\n",
      "Enter rate: 16\n",
      "Enter time in years: 3\n"
     ]
    },
    {
     "name": "stdout",
     "output_type": "stream",
     "text": [
      "Total interest: 120000.0\n"
     ]
    }
   ],
   "source": [
    "Principle = float(input(\"Enter Principle:\"))\n",
    "Rate = float(input(\"Enter rate:\"))\n",
    "Time = float(input(\"Enter time in years:\"))\n",
    "Simple_interest = Principle * Rate * Time\n",
    "print(\"Total interest:\",Simple_interest)"
   ]
  },
  {
   "cell_type": "markdown",
   "id": "c5da301d-d8d8-4655-bf55-bb4306399156",
   "metadata": {},
   "source": [
    "# Question 4"
   ]
  },
  {
   "cell_type": "code",
   "execution_count": 23,
   "id": "fa0117ff-b908-4169-a397-4e12b2a7ee84",
   "metadata": {},
   "outputs": [
    {
     "name": "stdin",
     "output_type": "stream",
     "text": [
      "Enter Distance in km: 25\n",
      "Enter Time in hr: 2.5\n"
     ]
    },
    {
     "name": "stdout",
     "output_type": "stream",
     "text": [
      "The Speed of the object is: 10.0 in kms/hr\n"
     ]
    }
   ],
   "source": [
    "Distance = float(input(\"Enter Distance in km:\"))\n",
    "Time = float(input(\"Enter Time in hr:\"))\n",
    "Speed = Distance / Time\n",
    "print(\"The Speed of the object is:\",Speed,\"in kms/hr\")"
   ]
  },
  {
   "cell_type": "markdown",
   "id": "5da08be6-1631-438e-a94f-5e47d1783133",
   "metadata": {},
   "source": [
    "# Question 5"
   ]
  },
  {
   "cell_type": "code",
   "execution_count": 26,
   "id": "43930374-341e-402f-848a-491c88f602b9",
   "metadata": {},
   "outputs": [
    {
     "name": "stdin",
     "output_type": "stream",
     "text": [
      "Enter weight in kg: 60\n",
      "Enter height in meters: 69\n"
     ]
    },
    {
     "name": "stdout",
     "output_type": "stream",
     "text": [
      "BMI is: 0.01260239445494644\n"
     ]
    }
   ],
   "source": [
    "Weight = float(input(\"Enter weight in kg:\"))\n",
    "Height = float(input(\"Enter height in meters:\"))\n",
    "Bmi = Weight / Height ** 2\n",
    "print(\"BMI is:\",Bmi)"
   ]
  },
  {
   "cell_type": "markdown",
   "id": "1f18192a-59e2-4bec-9744-7ffb69b17264",
   "metadata": {},
   "source": [
    "# Question 6"
   ]
  },
  {
   "cell_type": "code",
   "execution_count": 32,
   "id": "55e5a257-6d69-469f-922d-c907d72139f7",
   "metadata": {},
   "outputs": [
    {
     "name": "stdin",
     "output_type": "stream",
     "text": [
      "Enter mass in kg: 59\n",
      "Enter acceleration in meters/s*2: 78\n"
     ]
    },
    {
     "name": "stdout",
     "output_type": "stream",
     "text": [
      "The force of the object is: 4602.0\n"
     ]
    }
   ],
   "source": [
    "M = float(input(\"Enter mass in kg:\"))\n",
    "A = float(input(\"Enter acceleration in meters/s*2:\"))\n",
    "Force = M * A\n",
    "print(\"The force of the object is:\",Force)"
   ]
  },
  {
   "cell_type": "markdown",
   "id": "d49e66e3-3e04-4afe-b1e2-13a0c09fca2a",
   "metadata": {},
   "source": [
    "# Question 7"
   ]
  },
  {
   "cell_type": "code",
   "execution_count": 38,
   "id": "0b6492e1-000d-432a-8d86-0d2cfba0781c",
   "metadata": {},
   "outputs": [
    {
     "name": "stdin",
     "output_type": "stream",
     "text": [
      "Enter Principle: 25000\n",
      "Enter rate: 12\n",
      "Enter time in years: 5\n",
      "Enter number of times interest is compounded in a year: 3\n"
     ]
    },
    {
     "name": "stdout",
     "output_type": "stream",
     "text": [
      "The total is: 15625000.0\n"
     ]
    }
   ],
   "source": [
    "P = float(input(\"Enter Principle:\"))\n",
    "R = float(input(\"Enter rate:\"))\n",
    "T = float(input(\"Enter time in years:\"))\n",
    "N = float(input(\"Enter number of times interest is compounded in a year:\"))\n",
    "A = P * (1+R/N) ** N * T\n",
    "print(\"The total is:\",A)"
   ]
  },
  {
   "cell_type": "markdown",
   "id": "3bde33a8-a382-40d3-b923-b8496137ae0e",
   "metadata": {},
   "source": [
    "# Question 8"
   ]
  },
  {
   "cell_type": "code",
   "execution_count": 40,
   "id": "41312edc-bdf8-49a3-a5e7-a7024b0348ad",
   "metadata": {},
   "outputs": [
    {
     "name": "stdin",
     "output_type": "stream",
     "text": [
      "Enter length of side a: 10\n",
      "Enter length of side b: 9\n",
      "Enter length of side c: 7\n"
     ]
    },
    {
     "name": "stdout",
     "output_type": "stream",
     "text": [
      "The Perimeter of the Triangle is: 26.0\n"
     ]
    }
   ],
   "source": [
    "A = float(input(\"Enter length of side a:\"))\n",
    "B = float(input(\"Enter length of side b:\"))\n",
    "C = float(input(\"Enter length of side c:\"))\n",
    "Perimeter = A + B + C\n",
    "print(\"The Perimeter of the Triangle is:\",Perimeter)"
   ]
  },
  {
   "cell_type": "markdown",
   "id": "fb7bfd9e-91d4-4e02-ab87-1003a8e4e746",
   "metadata": {},
   "source": [
    "# Question 9"
   ]
  },
  {
   "cell_type": "code",
   "execution_count": 43,
   "id": "acfb381b-d95f-4cec-953a-673408b63069",
   "metadata": {},
   "outputs": [
    {
     "name": "stdin",
     "output_type": "stream",
     "text": [
      "Enter radius: 19\n"
     ]
    },
    {
     "name": "stdout",
     "output_type": "stream",
     "text": [
      "The volume of the sphere is: 28716.346666666665\n"
     ]
    }
   ],
   "source": [
    "Radius = float(input(\"Enter radius:\"))\n",
    "Volume = (4/3)* Pi * Radius ** 3\n",
    "print(\"The volume of the sphere is:\",Volume)"
   ]
  },
  {
   "cell_type": "markdown",
   "id": "dfd915a9-1544-4203-9dcd-79be54daa12a",
   "metadata": {},
   "source": [
    "# Question 10"
   ]
  },
  {
   "cell_type": "code",
   "execution_count": 46,
   "id": "c5492a68-c9a8-4003-a307-11d39c7ec66a",
   "metadata": {},
   "outputs": [
    {
     "name": "stdin",
     "output_type": "stream",
     "text": [
      "Enter mass: 25\n",
      "Enter velocity: 74\n"
     ]
    },
    {
     "name": "stdout",
     "output_type": "stream",
     "text": [
      "Kinetic Energy is: 68450.0\n"
     ]
    }
   ],
   "source": [
    "Mass = float(input(\"Enter mass:\"))\n",
    "Velocity = float(input(\"Enter velocity:\"))\n",
    "KE= (1/2) * Mass * Velocity ** 2\n",
    "print(\"Kinetic Energy is:\",KE)"
   ]
  },
  {
   "cell_type": "markdown",
   "id": "c3e169ce-2b9f-4370-a725-12f7b4665635",
   "metadata": {},
   "source": [
    "# Question 11"
   ]
  },
  {
   "cell_type": "code",
   "execution_count": null,
   "id": "ea7883f5-cd59-4325-927b-fec3037c6c59",
   "metadata": {},
   "outputs": [],
   "source": [
    "A = float(input(\"Enter length of side a:\"))\n",
    "B = float(input(\"Enter length of side b:\"))\n",
    "C = float(input(\"Enter length of side c:\"))\n",
    "X = \n",
    "print(\"The Perimeter of the Triangle is:\",Perimeter)"
   ]
  },
  {
   "cell_type": "markdown",
   "id": "8562f844-ec47-47a7-96c6-2ea636fb5e41",
   "metadata": {},
   "source": [
    "# Question 12"
   ]
  },
  {
   "cell_type": "code",
   "execution_count": 50,
   "id": "dc00e567-72ba-433e-b8a9-7516d51e1aef",
   "metadata": {},
   "outputs": [
    {
     "name": "stdin",
     "output_type": "stream",
     "text": [
      "Enter temperature in celsius: 36.5\n"
     ]
    },
    {
     "name": "stdout",
     "output_type": "stream",
     "text": [
      "Temperature in fahrenheit is: 97.7\n"
     ]
    }
   ],
   "source": [
    "Celsius = float(input(\"Enter temperature in celsius:\"))\n",
    "Farenheit = (9/5 * Celsius)+32\n",
    "print(\"Temperature in fahrenheit is:\",Farenheit)"
   ]
  },
  {
   "cell_type": "markdown",
   "id": "140c0783-616c-40fe-bf0c-bcb3c6869707",
   "metadata": {},
   "source": [
    "# Question 13"
   ]
  },
  {
   "cell_type": "code",
   "execution_count": 53,
   "id": "0be8b017-4ecb-4867-9e80-d8a1092b4f24",
   "metadata": {},
   "outputs": [
    {
     "name": "stdin",
     "output_type": "stream",
     "text": [
      "Enter mass of Object1: 25\n",
      "Enter mass of Object2: 24\n",
      "Enter distance b/w centers of objects: 8\n"
     ]
    },
    {
     "name": "stdout",
     "output_type": "stream",
     "text": [
      "Gravitational force b/w the two objects is: 6.2559375e-10\n"
     ]
    }
   ],
   "source": [
    "M1 = float(input(\"Enter mass of Object1:\"))\n",
    "M2 = float(input(\"Enter mass of Object2:\"))\n",
    "RR = float(input(\"Enter distance b/w centers of objects:\"))\n",
    "G = 6.673*(10**-11)\n",
    "F1 = (G*M1*M2)/(RR**2)\n",
    "print(\"Gravitational force b/w the two objects is:\",F1)"
   ]
  },
  {
   "cell_type": "markdown",
   "id": "40a06406-358c-41ac-b4b3-0c083a9e7117",
   "metadata": {},
   "source": [
    "# Question 14"
   ]
  },
  {
   "cell_type": "code",
   "execution_count": 56,
   "id": "f6dcc3c2-7ec1-43ff-81b3-4601625507a8",
   "metadata": {},
   "outputs": [
    {
     "name": "stdin",
     "output_type": "stream",
     "text": [
      "Enter radius: 8\n",
      "Enter height: 24\n"
     ]
    },
    {
     "name": "stdout",
     "output_type": "stream",
     "text": [
      "Volume is: 4823.04\n"
     ]
    }
   ],
   "source": [
    "R = float(input(\"Enter radius:\"))\n",
    "H = float(input(\"Enter height:\"))\n",
    "Pi = 3.14\n",
    "Volume = (Pi*R**2)*H\n",
    "print(\"Volume is:\",Volume)"
   ]
  },
  {
   "cell_type": "markdown",
   "id": "e62fbe17-6112-429a-a6e2-cd31ae78b41d",
   "metadata": {},
   "source": [
    "# Question 15"
   ]
  },
  {
   "cell_type": "code",
   "execution_count": 61,
   "id": "6fe11729-28f2-4918-a3aa-1b3431ca650e",
   "metadata": {},
   "outputs": [
    {
     "name": "stdin",
     "output_type": "stream",
     "text": [
      "Enter force: 12\n",
      "Enter area: 2.67\n"
     ]
    },
    {
     "name": "stdout",
     "output_type": "stream",
     "text": [
      "The Pressure is: 4.49438202247191\n"
     ]
    }
   ],
   "source": [
    "Force = float(input(\"Enter force:\"))\n",
    "Area = float(input(\"Enter area:\"))\n",
    "Pressure = Force / Area\n",
    "print(\"The Pressure is:\",Pressure)"
   ]
  },
  {
   "cell_type": "markdown",
   "id": "47ba6fca-6f2d-4d14-a540-16e890e254e4",
   "metadata": {},
   "source": [
    "# Question 16"
   ]
  },
  {
   "cell_type": "code",
   "execution_count": 64,
   "id": "c26a3e43-9ada-4bac-8d1a-8aad9f6cbefc",
   "metadata": {},
   "outputs": [
    {
     "name": "stdin",
     "output_type": "stream",
     "text": [
      "Enter voltage: 49\n",
      "Enter current: 54\n"
     ]
    },
    {
     "name": "stdout",
     "output_type": "stream",
     "text": [
      "The Power is: 0.9074074074074074\n"
     ]
    }
   ],
   "source": [
    "V = float(input(\"Enter voltage:\"))\n",
    "I = float(input(\"Enter current:\"))\n",
    "Power = V/I\n",
    "print(\"The Power is:\",Power)"
   ]
  },
  {
   "cell_type": "markdown",
   "id": "34ecb26f-f4d5-4d7a-91b5-944cd88a1231",
   "metadata": {},
   "source": [
    "# Question 17"
   ]
  },
  {
   "cell_type": "code",
   "execution_count": 67,
   "id": "5a8e6c53-551c-448a-bf86-06f35e355099",
   "metadata": {},
   "outputs": [
    {
     "name": "stdin",
     "output_type": "stream",
     "text": [
      "Enter radius: 25\n"
     ]
    },
    {
     "name": "stdout",
     "output_type": "stream",
     "text": [
      "Perimeter of Circle is: 157.0\n"
     ]
    }
   ],
   "source": [
    "R = float(input(\"Enter radius:\"))\n",
    "Pi = 3.14\n",
    "P = 2*Pi*R\n",
    "print(\"Perimeter of Circle is:\",P)"
   ]
  },
  {
   "cell_type": "markdown",
   "id": "9eb0fd70-d0c8-4240-82d9-448ea45557cb",
   "metadata": {},
   "source": [
    "# Question 18"
   ]
  },
  {
   "cell_type": "code",
   "execution_count": 70,
   "id": "65ab525a-21f3-4365-b628-29183a72676e",
   "metadata": {},
   "outputs": [
    {
     "name": "stdin",
     "output_type": "stream",
     "text": [
      "Enter Present Value: 25\n",
      "Enter annual interest rate: 10.56\n",
      "Enter time in years: 8\n"
     ]
    },
    {
     "name": "stdout",
     "output_type": "stream",
     "text": [
      "Future value is: 2312.0\n"
     ]
    }
   ],
   "source": [
    "PV = float(input(\"Enter Present Value:\"))\n",
    "RA = float(input(\"Enter annual interest rate:\"))\n",
    "TI = float(input(\"Enter time in years:\"))\n",
    "FV = PV*(1+RA)*TI\n",
    "print(\"Future value is:\",FV)"
   ]
  },
  {
   "cell_type": "markdown",
   "id": "66ba1cba-68eb-41a0-8203-ba873c1bc3c5",
   "metadata": {},
   "source": [
    "# Question 19"
   ]
  },
  {
   "cell_type": "code",
   "execution_count": 78,
   "id": "4407c3b0-bac6-4ea9-ae13-3df09f38e1db",
   "metadata": {},
   "outputs": [
    {
     "name": "stdin",
     "output_type": "stream",
     "text": [
      "Enter force: 58\n",
      "Enter distance: 45\n",
      "Enter theta in angle: 89\n"
     ]
    },
    {
     "name": "stdout",
     "output_type": "stream",
     "text": [
      "Total Work Done is: 232290.0\n"
     ]
    }
   ],
   "source": [
    "F = float(input(\"Enter force:\"))\n",
    "D = float(input(\"Enter distance:\"))\n",
    "Theta = float(input(\"Enter theta in angle:\"))\n",
    "WD = (F*D)*Theta\n",
    "print(\"Total Work Done is:\",WD)"
   ]
  },
  {
   "cell_type": "markdown",
   "id": "153c2fbd-6a49-4fda-98ff-0bd820f46cba",
   "metadata": {},
   "source": [
    "# Question 20"
   ]
  },
  {
   "cell_type": "code",
   "execution_count": 80,
   "id": "c38f6ae1-2e86-4b4d-8340-5358392d80ec",
   "metadata": {},
   "outputs": [
    {
     "name": "stdin",
     "output_type": "stream",
     "text": [
      "Enter mass: 13\n",
      "Enter specific heat capacity: 44\n",
      "Enter change: 5\n"
     ]
    },
    {
     "name": "stdout",
     "output_type": "stream",
     "text": [
      "Total heat transferred is: 2860.0\n"
     ]
    }
   ],
   "source": [
    "M = float(input(\"Enter mass:\"))\n",
    "C = float(input(\"Enter specific heat capacity:\"))\n",
    "T = float(input(\"Enter change:\"))\n",
    "Q = M*C*T\n",
    "print(\"Total heat transferred is:\",Q)"
   ]
  },
  {
   "cell_type": "code",
   "execution_count": null,
   "id": "bebf7b9c-3419-49ce-9e42-0d9337923708",
   "metadata": {},
   "outputs": [],
   "source": []
  }
 ],
 "metadata": {
  "kernelspec": {
   "display_name": "Python 3 (ipykernel)",
   "language": "python",
   "name": "python3"
  },
  "language_info": {
   "codemirror_mode": {
    "name": "ipython",
    "version": 3
   },
   "file_extension": ".py",
   "mimetype": "text/x-python",
   "name": "python",
   "nbconvert_exporter": "python",
   "pygments_lexer": "ipython3",
   "version": "3.12.7"
  }
 },
 "nbformat": 4,
 "nbformat_minor": 5
}
