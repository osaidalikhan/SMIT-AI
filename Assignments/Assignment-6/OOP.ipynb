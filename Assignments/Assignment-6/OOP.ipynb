{
 "cells": [
  {
   "cell_type": "markdown",
   "id": "98f0f9ff-2bac-46b9-97eb-56ef17369648",
   "metadata": {},
   "source": [
    "# 1. Write a Python program to create a class called \"Person\" with properties for name, age and country. Include a method to display the person's details. Create two instances of the 'Person' class and display their details. "
   ]
  },
  {
   "cell_type": "code",
   "execution_count": 43,
   "id": "a89ee7f9-1328-495f-9f21-21e0c668f001",
   "metadata": {},
   "outputs": [
    {
     "name": "stdout",
     "output_type": "stream",
     "text": [
      "Name:Ali\n",
      "Age:19\n",
      "Country:Uganda\n",
      "------------------\n",
      "Name:Smith\n",
      "Age:25\n",
      "Country:Canada\n"
     ]
    }
   ],
   "source": [
    "class Person:\n",
    "    def __init__(self, name, age, country):\n",
    "        self.name = name\n",
    "        self.age = age\n",
    "        self.country = country\n",
    "\n",
    "    def display_details(self):\n",
    "        print(f\"Name:{self.name}\")\n",
    "        print(f\"Age:{self.age}\")\n",
    "        print(f\"Country:{self.country}\")\n",
    "        \n",
    "person1 = Person(\"Ali\", 19, \"Uganda\")\n",
    "person2 = Person(\"Smith\", 25, \"Canada\")\n",
    "\n",
    "person1.display_details()\n",
    "print(\"------------------\")\n",
    "person2.display_details()"
   ]
  },
  {
   "cell_type": "markdown",
   "id": "f33b594e-c95a-4868-a827-59c8deba9cd8",
   "metadata": {},
   "source": [
    "# 2. Write a Python program to create a class called 'Rectangle' with properties for width and height. Include two methods to calculate rectangle area and perimeter. Create an instance of the 'Rectangle' class and calculate its area and perimeter. "
   ]
  },
  {
   "cell_type": "code",
   "execution_count": 45,
   "id": "7951c48f-0643-4851-9b13-f657436fb5d6",
   "metadata": {},
   "outputs": [
    {
     "name": "stdout",
     "output_type": "stream",
     "text": [
      "Rectangle Width:6\n",
      "Rectangle Height:8\n",
      "Rectangle Area:48\n",
      "Rectangle Perimeter:28\n"
     ]
    }
   ],
   "source": [
    "class Rectangle:\n",
    "    def __init__(self, width, height):\n",
    "        self.width = width\n",
    "        self.height = height\n",
    "\n",
    "    def calculate_area(self):\n",
    "        return self.width * self.height\n",
    "\n",
    "    def calculate_perimeter(self):\n",
    "        return 2 * (self.width + self.height)\n",
    "\n",
    "rectangle = Rectangle(6,8)\n",
    "\n",
    "print(f\"Rectangle Width:{rectangle.width}\")\n",
    "print(f\"Rectangle Height:{rectangle.height}\")\n",
    "print(f\"Rectangle Area:{rectangle.calculate_area()}\")\n",
    "print(f\"Rectangle Perimeter:{rectangle.calculate_perimeter()}\")"
   ]
  },
  {
   "cell_type": "markdown",
   "id": "72a63211-8ed1-49e0-a916-677e5b2c1069",
   "metadata": {},
   "source": [
    "# 3. Write a Python program that creates a class called 'Vehicle' with properties for make, model, and year. Include a method to display vehicle details. Create a subclass called 'Car' that inherits from the 'Vehicle' class and includes an additional property for the number of doors. Override the display method to include the number of doors. "
   ]
  },
  {
   "cell_type": "code",
   "execution_count": 47,
   "id": "c94d23aa-b7f1-4fed-a273-a42a19be501b",
   "metadata": {},
   "outputs": [
    {
     "name": "stdout",
     "output_type": "stream",
     "text": [
      "\n",
      "        Make:Toyota\n",
      "        Model:Grande\n",
      "        Year:2022\n",
      "        \n",
      "\n",
      "        Make:Honda\n",
      "        Model:Civic\n",
      "        Year:2024\n",
      "        \n",
      "        Number of Doors:4\n"
     ]
    }
   ],
   "source": [
    "class Vehicle:\n",
    "    def __init__(self, make, model, year):\n",
    "        self.make = make\n",
    "        self.model = model\n",
    "        self.year = year\n",
    "\n",
    "    def display_details(self):\n",
    "        print(f\"\"\"\n",
    "        Make:{self.make}\n",
    "        Model:{self.model}\n",
    "        Year:{self.year}\n",
    "        \"\"\")\n",
    "\n",
    "\n",
    "class Car(Vehicle):\n",
    "    def __init__(self, make, model, year,doors):\n",
    "        super().__init__(make, model, year)\n",
    "        self.doors = doors\n",
    "\n",
    "    def display_details(self):\n",
    "        super().display_details()\n",
    "        print(f\"        Number of Doors:{self.doors}\")\n",
    "\n",
    "vehicle = Vehicle(\"Toyota\", \"Grande\", 2022)\n",
    "vehicle.display_details()\n",
    "car = Car(\"Honda\", \"Civic\", 2024, 4)\n",
    "car.display_details()"
   ]
  },
  {
   "cell_type": "markdown",
   "id": "9a15bc9a-062d-4641-ba5a-4d50686040b6",
   "metadata": {},
   "source": [
    "# 4. Write a Python program that creates a class called \"BankAccount\" with properties for account number and balance. Include methods to deposit and withdraw money from the account. Create some instances of the \"BankAccount\" class, deposit some money, and withdraw a portion of it. "
   ]
  },
  {
   "cell_type": "code",
   "execution_count": 49,
   "id": "9540097b-53af-4d1c-a652-d26a416ce65e",
   "metadata": {},
   "outputs": [
    {
     "name": "stdout",
     "output_type": "stream",
     "text": [
      "Account Number:PK01\n",
      "Current Balance:$35000\n",
      "Deposited:$5000\n",
      "Withdrawn:$130\n",
      "Account Number:PK01\n",
      "Current Balance:$39870\n",
      "------------------\n",
      "Account Number:PK02\n",
      "Current Balance:$10000\n",
      "Deposited:$250\n",
      "Withdrawn:$25\n",
      "Account Number:PK02\n",
      "Current Balance:$10225\n"
     ]
    }
   ],
   "source": [
    "class BankAccount:\n",
    "    def __init__(self, account_number, balance=0):\n",
    "        self.account_number = account_number\n",
    "        self.balance = balance\n",
    "\n",
    "    def deposit(self, amount):\n",
    "        if amount > 0:\n",
    "            self.balance += amount\n",
    "            print(f\"Deposited:${amount}\")\n",
    "        else:\n",
    "            print(\"Deposit amount must be positive.\")\n",
    "\n",
    "    def withdraw(self, amount):\n",
    "        if 0 < amount <= self.balance:\n",
    "            self.balance -= amount\n",
    "            print(f\"Withdrawn:${amount}\")\n",
    "        elif amount > self.balance:\n",
    "            print(\"Insufficient balance.\")\n",
    "        else:\n",
    "            print(\"Withdrawal amount must be positive.\")\n",
    "\n",
    "    def display_balance(self):\n",
    "        print(f\"Account Number:{self.account_number}\")\n",
    "        print(f\"Current Balance:${self.balance}\")\n",
    "\n",
    "account1 = BankAccount(\"PK01\",35000)\n",
    "account2 = BankAccount(\"PK02\", 10000)\n",
    "\n",
    "account1.display_balance()\n",
    "account1.deposit(5000)\n",
    "account1.withdraw(130)\n",
    "account1.display_balance()\n",
    "print(\"------------------\")\n",
    "account2.display_balance()\n",
    "account2.deposit(250)\n",
    "account2.withdraw(25)\n",
    "account2.display_balance()"
   ]
  },
  {
   "cell_type": "markdown",
   "id": "b3a03649-c2a9-40a6-910f-4ed3cf205444",
   "metadata": {},
   "source": [
    "# 5. Write a Python program that creates a class called 'Shape' with a method to calculate the area. Create two subclasses, 'Circle' and 'Triangle', that inherit from the 'Shape' class and override the area calculation method. Create an instance of the 'Circle' class and calculate its area. Similarly, do the same for the 'Triangle' class."
   ]
  },
  {
   "cell_type": "code",
   "execution_count": 51,
   "id": "3811cd77-7a82-4148-be8f-8f446e5b8040",
   "metadata": {},
   "outputs": [
    {
     "name": "stdout",
     "output_type": "stream",
     "text": [
      "\n",
      "    Circle Radius:5\n",
      "    Circle Area:78.55\n",
      "    \n",
      "\n",
      "    Triangle Base:10\n",
      "    Triangle Height:6\n",
      "    Triangle Area:30.0\n",
      "    \n"
     ]
    }
   ],
   "source": [
    "class Shape:\n",
    "    def calculate_area(self):\n",
    "        return \n",
    "        \n",
    "\n",
    "class Circle(Shape):\n",
    "    def __init__(self, radius):\n",
    "        self.radius = radius\n",
    "    def calculate_area(self):\n",
    "        return 3.142 * (self.radius ** 2)\n",
    "\n",
    "class Triangle(Shape):\n",
    "    def __init__(self, base, height):\n",
    "        self.base = base\n",
    "        self.height = height\n",
    "    def calculate_area(self):\n",
    "        return 0.5 * self.base * self.height\n",
    "\n",
    "\n",
    "circle = Circle(5)\n",
    "print(f\"\"\"\n",
    "    Circle Radius:{circle.radius}\n",
    "    Circle Area:{circle.calculate_area()}\n",
    "    \"\"\")\n",
    "\n",
    "triangle = Triangle(10, 6)\n",
    "print(f\"\"\"\n",
    "    Triangle Base:{triangle.base}\n",
    "    Triangle Height:{triangle.height}\n",
    "    Triangle Area:{triangle.calculate_area()}\n",
    "    \"\"\")"
   ]
  },
  {
   "cell_type": "markdown",
   "id": "8587a8e5-d5fa-471f-8d22-e4b864bca234",
   "metadata": {},
   "source": [
    "# 6. Write a Python program that creates a class called 'Employee' with properties for name and salary. Include a method to calculate annual salary. Create a subclass called 'Manager' that inherits from the 'Employee' class and adds an additional property for department. Override the annual salary calculation method to include bonuses for managers. Create two instances of the 'Manager' class and calculate their annual salary. \n"
   ]
  },
  {
   "cell_type": "code",
   "execution_count": 53,
   "id": "9ded1a82-22e8-451e-bb26-c9fa8ecb6f53",
   "metadata": {},
   "outputs": [
    {
     "name": "stdout",
     "output_type": "stream",
     "text": [
      "\n",
      "        Name:Ali\n",
      "        Department:IT\n",
      "        Monthly Salary:$150000\n",
      "        Annual Salary(with Bonus):$1815000\n",
      "        \n",
      "\n",
      "        Name:Khan\n",
      "        Department:HR\n",
      "        Monthly Salary:$200000\n",
      "        Annual Salary(with Bonus):$2420000\n",
      "    \n"
     ]
    }
   ],
   "source": [
    "class Employee:\n",
    "    def __init__(self, name, salary):\n",
    "        self.name = name\n",
    "        self.salary = salary\n",
    "\n",
    "    def calculate_annual_salary(self):\n",
    "        return self.salary * 12\n",
    "\n",
    "\n",
    "class Manager(Employee):\n",
    "    def __init__(self, name, salary, department, bonus):\n",
    "        super().__init__(name, salary)\n",
    "        self.department = department\n",
    "        self.bonus = bonus\n",
    "\n",
    "    def calculate_annual_salary(self):\n",
    "        basic_annual_salary = super().calculate_annual_salary()\n",
    "        return basic_annual_salary + self.bonus\n",
    "\n",
    "manager1 = Manager(\"Ali\", 150000, \"IT\", 15000)\n",
    "manager2 = Manager(\"Khan\", 200000, \"HR\", 20000)\n",
    "\n",
    "print(f\"\"\"\n",
    "        Name:{manager1.name}\n",
    "        Department:{manager1.department}\n",
    "        Monthly Salary:${manager1.salary}\n",
    "        Annual Salary(with Bonus):${manager1.calculate_annual_salary()}\n",
    "        \"\"\")\n",
    "\n",
    "print(f\"\"\"\n",
    "        Name:{manager2.name}\n",
    "        Department:{manager2.department}\n",
    "        Monthly Salary:${manager2.salary}\n",
    "        Annual Salary(with Bonus):${manager2.calculate_annual_salary()}\n",
    "    \"\"\")"
   ]
  },
  {
   "cell_type": "markdown",
   "id": "69f4db8c-7ef8-4c89-82e0-5d0504c4a9b7",
   "metadata": {},
   "source": [
    "# 7. Write a Python program that creates a class Book with properties for title, author, and publication year. Include a method to display book details. Create a subclass called 'Ebook' that inherits from the 'Book' class and includes an additional property for book price. Override the display method to include the book price. Create an instance of the 'Ebook' class and display its details. "
   ]
  },
  {
   "cell_type": "code",
   "execution_count": 55,
   "id": "89103a64-2907-4493-a653-95148bc88f2c",
   "metadata": {},
   "outputs": [
    {
     "name": "stdout",
     "output_type": "stream",
     "text": [
      "\n",
      "            Title: Around the World in Eighty Days\n",
      "            Author: Novel by Jules Verne\n",
      "            Publication Year: 1872\n",
      "            \n",
      "            Price:$15.5\n"
     ]
    }
   ],
   "source": [
    "class Book:\n",
    "    def __init__(self, title, author, publication_year):\n",
    "        self.title = title\n",
    "        self.author = author\n",
    "        self.publication_year = publication_year\n",
    "\n",
    "    def display_details(self):\n",
    "        print(f\"\"\"\n",
    "            Title: {self.title}\n",
    "            Author: {self.author}\n",
    "            Publication Year: {self.publication_year}\n",
    "            \"\"\")\n",
    "\n",
    "\n",
    "class Ebook(Book):\n",
    "    def __init__(self, title, author, publication_year, price):\n",
    "        super().__init__(title, author, publication_year)\n",
    "        self.price = price\n",
    "\n",
    "    def display_details(self):\n",
    "        super().display_details()\n",
    "        print(f\"            Price:${self.price}\")\n",
    "\n",
    "ebook = Ebook(\"Around the World in Eighty Days\", \"Novel by Jules Verne\", 1872,15.5)\n",
    "ebook.display_details()"
   ]
  },
  {
   "cell_type": "markdown",
   "id": "8c1d7d82-0f01-43e4-b3c3-55a2fb055abc",
   "metadata": {},
   "source": [
    "# 8. Write a Python program that creates a class called 'Animal' with properties for species and sound. Include a method to make the animal's sound. Create a subclass called 'Dog' that inherits from the 'Animal' class and adds an additional property for color. Override the make sound method to include the dog's color. Create an instance of the 'Dog' class and make it make its sound. \n"
   ]
  },
  {
   "cell_type": "code",
   "execution_count": 58,
   "id": "af51af27-157b-457f-a0a1-f87998251a07",
   "metadata": {},
   "outputs": [
    {
     "name": "stdout",
     "output_type": "stream",
     "text": [
      "The black Pitbull says: woooooogf\n"
     ]
    }
   ],
   "source": [
    "class Animal:\n",
    "    def __init__(self, species, sound):\n",
    "        self.species = species\n",
    "        self.sound = sound\n",
    "        \n",
    "    def make_sound(self):\n",
    "        print(f\"The {self.species} makes a sound: {self.sound}\")\n",
    "\n",
    "class Dog(Animal):\n",
    "    def __init__(self, species, sound, color):\n",
    "        super().__init__(species, sound)\n",
    "        self.color = color\n",
    "\n",
    "    def make_sound(self):\n",
    "        print(f\"The {self.color} {self.species} says: {self.sound}\")\n",
    "\n",
    "dog = Dog(\"Pitbull\", \"woooooogf\", \"black\")\n",
    "dog.make_sound()"
   ]
  },
  {
   "cell_type": "markdown",
   "id": "a51c9624-30d6-4e43-b462-84fb150982f7",
   "metadata": {},
   "source": [
    "# 9. Write a Python program that creates a class called Bank with properties for bank names and branches. Include methods to add a branch, remove a branch, and display all branches. Create an instance of the Bank class and perform operations to add and remove branches. "
   ]
  },
  {
   "cell_type": "code",
   "execution_count": 65,
   "id": "48aed9bb-1b29-4fc9-ac93-a1caca8c6cdf",
   "metadata": {},
   "outputs": [
    {
     "name": "stdout",
     "output_type": "stream",
     "text": [
      "Branch 'Jamshed Road' added.\n",
      "Branch 'Bahadurabad' added.\n",
      "Branch 'Sharfabad' added.\n",
      "Bank: Meezan Bank\n",
      "Branches:\n",
      "* Jamshed Road\n",
      "* Bahadurabad\n",
      "* Sharfabad\n",
      "Branch 'Bahadurabad' removed.\n",
      "Bank: Meezan Bank\n",
      "Branches:\n",
      "* Jamshed Road\n",
      "* Sharfabad\n"
     ]
    }
   ],
   "source": [
    "class Bank:\n",
    "    def __init__(self, name):\n",
    "        self.name = name\n",
    "        self.branches = []\n",
    "\n",
    "    def add_branch(self, branch_name):\n",
    "        if branch_name not in self.branches:\n",
    "            self.branches.append(branch_name)\n",
    "            print(f\"Branch '{branch_name}' added.\")\n",
    "        else:\n",
    "            print(f\"Branch '{branch_name}' already exists.\")\n",
    "\n",
    "    def remove_branch(self, branch_name):\n",
    "        if branch_name in self.branches:\n",
    "            self.branches.remove(branch_name)\n",
    "            print(f\"Branch '{branch_name}' removed.\")\n",
    "        else:\n",
    "            print(f\"Branch '{branch_name}' not found.\")\n",
    "\n",
    "    def display_branches(self):\n",
    "        print(f\"Bank: {self.name}\")\n",
    "        print(\"Branches:\")\n",
    "        if self.branches:\n",
    "            for branch in self.branches:\n",
    "                print(f\"* {branch}\")\n",
    "        else:\n",
    "            print(\"No branches available.\")\n",
    "\n",
    "bank = Bank(\"Meezan Bank\")\n",
    "\n",
    "# Add branches\n",
    "bank.add_branch(\"Jamshed Road\")\n",
    "bank.add_branch(\"Bahadurabad\")\n",
    "bank.add_branch(\"Sharfabad\")\n",
    "\n",
    "bank.display_branches()\n",
    "bank.remove_branch(\"Bahadurabad\")\n",
    "\n",
    "bank.display_branches()"
   ]
  },
  {
   "cell_type": "markdown",
   "id": "50284bb0-43f7-4f62-869b-21c372664cdb",
   "metadata": {},
   "source": [
    "# 10. Write a Python program that creates a class called Product with properties for product ID, name, and price. Include a method to calculate the total price by multiplying the price by the quantity. Create a subclass called PersonalCareProduct that inherits from the Product class and adds an additional property for the warranty period. Override the total price calculation method to include the warranty period. Create an instance of the PersonalCareProduct class and calculate its total price. \n"
   ]
  },
  {
   "cell_type": "code",
   "execution_count": 77,
   "id": "2f65532d-18c0-474f-972b-22cb2e0748bc",
   "metadata": {},
   "outputs": [
    {
     "name": "stdout",
     "output_type": "stream",
     "text": [
      "\n",
      "        Product ID: PK001\")\n",
      "        Name: Face Wash\")\n",
      "        Price per Unit: $25.25\")\n",
      "        Quantity: 3\n",
      "        \n",
      "        Warranty Period:3 years\n",
      "        Total Price: $75.75\n"
     ]
    }
   ],
   "source": [
    "class Product:\n",
    "    def __init__(self, product_id, name, price):\n",
    "        self.product_id = product_id\n",
    "        self.name = name\n",
    "        self.price = price\n",
    "\n",
    "    def calculate_total_price(self, quantity):\n",
    "        return self.price * quantity\n",
    "\n",
    "\n",
    "class PersonalCareProduct(Product):\n",
    "    def __init__(self, product_id, name, price, warranty_period):\n",
    "        super().__init__(product_id, name, price)\n",
    "        self.warranty_period = warranty_period\n",
    "\n",
    "    def calculate_total_price(self, quantity):\n",
    "        total_price = super().calculate_total_price(quantity)\n",
    "        print(f\"        Warranty Period:{self.warranty_period} years\")\n",
    "        return total_price\n",
    "\n",
    "\n",
    "product = PersonalCareProduct(\"PK001\", \"Face Wash\", 25.25, 3)\n",
    "quantity = 3\n",
    "\n",
    "print(f\"\"\"\n",
    "        Product ID: {product.product_id}\")\n",
    "        Name: {product.name}\")\n",
    "        Price per Unit: ${product.price:.2f}\")\n",
    "        Quantity: {quantity}\n",
    "        \"\"\")\n",
    "total_price = product.calculate_total_price(quantity)\n",
    "print(f\"        Total Price: ${total_price}\")"
   ]
  },
  {
   "cell_type": "markdown",
   "id": "a90eea19-ef28-4a3f-82ed-5905408a45c5",
   "metadata": {},
   "source": [
    "# 11. Write a Python program that creates a class called BankAccount with properties for account number, account holder name, and balance. Include methods to deposit, withdraw, and transfer money between accounts. Create multiple instances of the BankAccount class and perform operations such as depositing, withdrawing, and transferring money. "
   ]
  },
  {
   "cell_type": "code",
   "execution_count": 94,
   "id": "89cebec4-6ea4-4901-9ebf-ef727ee9e331",
   "metadata": {},
   "outputs": [
    {
     "name": "stdout",
     "output_type": "stream",
     "text": [
      "Account Number: PK01\n",
      "Account Holder: Ali\n",
      "Balance: $5000.00\n",
      "Deposited $200 to account PK01.\n",
      "Withdrew $100 from account PK01.\n",
      "Transferred $200.00 from account PK01 to account PK02\n",
      "----------------------\n",
      "                  \n",
      "Account Number: PK01\n",
      "Account Holder: Ali\n",
      "Balance: $4900.00\n",
      "----------------------\n",
      "Account Number: PK02\n",
      "Account Holder: Khan\n",
      "Balance: $1200.00\n"
     ]
    }
   ],
   "source": [
    "class BankAccount:\n",
    "    def __init__(self, account_number, holder_name, balance=0):\n",
    "        self.account_number = account_number\n",
    "        self.holder_name = holder_name\n",
    "        self.balance = balance\n",
    "\n",
    "    def deposit(self, amount):\n",
    "        if amount > 0:\n",
    "            self.balance += amount\n",
    "            print(f\"Deposited ${amount} to account {self.account_number}.\")\n",
    "        else:\n",
    "            print(\"Deposit amount must be positive.\")\n",
    "\n",
    "    def withdraw(self, amount):\n",
    "        if amount > 0 and amount <= self.balance:\n",
    "            self.balance -= amount\n",
    "            print(f\"Withdrew ${amount} from account {self.account_number}.\")\n",
    "        elif amount > self.balance:\n",
    "            print(\"Insufficient balance.\")\n",
    "        else:\n",
    "            print(\"Withdrawal amount must be positive.\")\n",
    "\n",
    "    def transfer(self, amount, recipient_account):\n",
    "        if amount > 0 and amount <= self.balance:\n",
    "            self.balance -= amount\n",
    "            recipient_account.balance += amount\n",
    "            print(f\"\"\"Transferred ${amount:.2f} from account {self.account_number} to account {recipient_account.account_number}\n",
    "----------------------\n",
    "                  \"\"\")\n",
    "        elif amount > self.balance:\n",
    "            print(\"Insufficient balance.\")\n",
    "        else:\n",
    "            print(\"Transfer amount must be positive.\")\n",
    "\n",
    "    def display_balance(self):\n",
    "        print(f\"Account Number: {self.account_number}\")\n",
    "        print(f\"Account Holder: {self.holder_name}\")\n",
    "        print(f\"Balance: ${self.balance:.2f}\")\n",
    "\n",
    "\n",
    "account1 = BankAccount(\"PK01\", \"Ali\", 5000)\n",
    "account2 = BankAccount(\"PK02\", \"Khan\", 1000)\n",
    "\n",
    "\n",
    "account1.display_balance()\n",
    "account1.deposit(200)\n",
    "account1.withdraw(100)\n",
    "account1.transfer(200, account2)\n",
    "\n",
    "account1.display_balance()\n",
    "print(\"----------------------\")\n",
    "account2.display_balance()"
   ]
  },
  {
   "cell_type": "markdown",
   "id": "0d91ca35-fdc0-423f-b5bd-4a42f2789a73",
   "metadata": {},
   "source": [
    "# 12. Write a Python program that creates a class called University with properties for university name and departments. Include methods to add a department, remove a department, and display all departments. Create an instance of the University class and add and remove departments."
   ]
  },
  {
   "cell_type": "code",
   "execution_count": 97,
   "id": "8f4d8ebc-1851-4535-8230-187e2a60c5ed",
   "metadata": {},
   "outputs": [
    {
     "name": "stdout",
     "output_type": "stream",
     "text": [
      "Department 'Computer Science (UBIT)' added to Karachi University.\n",
      "Department 'Pharmacy' added to Karachi University.\n",
      "Department 'KUBS' added to Karachi University.\n",
      "University: Karachi University\n",
      "Departments:\n",
      "-Computer Science (UBIT)\n",
      "-Pharmacy\n",
      "-KUBS\n",
      "Department 'KUBS' removed from Karachi University.\n",
      "University: Karachi University\n",
      "Departments:\n",
      "-Computer Science (UBIT)\n",
      "-Pharmacy\n"
     ]
    }
   ],
   "source": [
    "class University:\n",
    "    def __init__(self, name):\n",
    "        self.name = name\n",
    "        self.departments = []\n",
    "\n",
    "    def add_department(self, department_name):\n",
    "        if department_name not in self.departments:\n",
    "            self.departments.append(department_name)\n",
    "            print(f\"Department '{department_name}' added to {self.name}.\")\n",
    "        else:\n",
    "            print(f\"Department '{department_name}' already exists.\")\n",
    "\n",
    "    def remove_department(self, department_name):\n",
    "        if department_name in self.departments:\n",
    "            self.departments.remove(department_name)\n",
    "            print(f\"Department '{department_name}' removed from {self.name}.\")\n",
    "        else:\n",
    "            print(f\"Department '{department_name}' not found.\")\n",
    "\n",
    "    def display_departments(self):\n",
    "        print(f\"University: {self.name}\")\n",
    "        print(\"Departments:\")\n",
    "        if self.departments:\n",
    "            for department in self.departments:\n",
    "                print(f\"-{department}\")\n",
    "        else:\n",
    "            print(\"No departments available.\")\n",
    "\n",
    "\n",
    "university = University(\"Karachi University\")\n",
    "\n",
    "university.add_department(\"Computer Science (UBIT)\")\n",
    "university.add_department(\"Pharmacy\")\n",
    "university.add_department(\"KUBS\")\n",
    "\n",
    "university.display_departments()\n",
    "\n",
    "university.remove_department(\"KUBS\")\n",
    "\n",
    "university.display_departments()\n"
   ]
  }
 ],
 "metadata": {
  "kernelspec": {
   "display_name": "Python 3 (ipykernel)",
   "language": "python",
   "name": "python3"
  },
  "language_info": {
   "codemirror_mode": {
    "name": "ipython",
    "version": 3
   },
   "file_extension": ".py",
   "mimetype": "text/x-python",
   "name": "python",
   "nbconvert_exporter": "python",
   "pygments_lexer": "ipython3",
   "version": "3.12.7"
  }
 },
 "nbformat": 4,
 "nbformat_minor": 5
}
