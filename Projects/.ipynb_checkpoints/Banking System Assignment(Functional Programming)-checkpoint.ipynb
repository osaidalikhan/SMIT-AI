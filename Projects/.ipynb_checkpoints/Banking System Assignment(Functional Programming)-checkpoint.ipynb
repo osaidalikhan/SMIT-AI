{
 "cells": [
  {
   "cell_type": "code",
   "execution_count": 1,
   "id": "43de677f-f243-4e00-9c7b-96cd100de916",
   "metadata": {},
   "outputs": [],
   "source": [
    "def account():\n",
    "    account = {\n",
    "     \"name\": \"John Doe\",\n",
    "     \"balance\": 0.0,\n",
    "     \"transactions\": []\n",
    "    }"
   ]
  },
  {
   "cell_type": "code",
   "execution_count": 3,
   "id": "e4b57cf1-14be-4592-a05e-0328b8be126a",
   "metadata": {},
   "outputs": [],
   "source": [
    "account()"
   ]
  },
  {
   "cell_type": "code",
   "execution_count": 5,
   "id": "bdde11cd-6a2b-4c4d-8f06-755cdb064ed1",
   "metadata": {},
   "outputs": [
    {
     "ename": "IndentationError",
     "evalue": "expected an indented block after function definition on line 3 (3892237198.py, line 4)",
     "output_type": "error",
     "traceback": [
      "\u001b[1;36m  Cell \u001b[1;32mIn[5], line 4\u001b[1;36m\u001b[0m\n\u001b[1;33m    return {\"name\": name, \"balance\": initial_balance, \"transactions\":\u001b[0m\n\u001b[1;37m    ^\u001b[0m\n\u001b[1;31mIndentationError\u001b[0m\u001b[1;31m:\u001b[0m expected an indented block after function definition on line 3\n"
     ]
    }
   ],
   "source": [
    "import os\n",
    "# Initialize account structure\n",
    "def create_account(name, initial_balance=0.0):\n",
    "return {\"name\": name, \"balance\": initial_balance, \"transactions\":\n",
    "[]}\n",
    "# Save transaction to file\n",
    "def save_transaction(account, transaction):\n",
    "with open(f'{account[\"name\"]}_transactions.txt', 'a') as file:\n",
    "file.write(transaction + '\\n')\n",
    "# Deposit function\n",
    "def deposit(account, amount):\n",
    "if amount <= 0:\n",
    "print(\"Deposit amount must be positive.\")\n",
    "return account\n",
    "account['balance'] += amount\n",
    "transaction = f\"Deposit: ${amount}. New Balance: $\n",
    "{account['balance']}\"\n",
    "account['transactions'].append(transaction)\n",
    "save_transaction(account, transaction)\n",
    "print(transaction)\n",
    "return account\n",
    "# Withdraw function\n",
    "def withdraw(account, amount):\n",
    "if amount <= 0:\n",
    "print(\"Withdrawal amount must be positive.\")\n",
    "return account\n",
    "if amount > account['balance']:\n",
    "print(\"Insufficient balance.\")\n",
    "return account\n",
    "account['balance'] -= amount\n",
    "transaction = f\"Withdrawal: ${amount}. New Balance: $\n",
    "{account['balance']}\"\n",
    "account['transactions'].append(transaction)\n",
    "save_transaction(account, transaction)\n",
    "print(transaction)\n",
    "return account\n",
    "# Check balance function\n",
    "def check_balance(account):\n",
    "print(f\"Current Balance: ${account['balance']}\")\n",
    "return account['balance']\n",
    "# Print statement function\n",
    "\n",
    "def print_statement(account):\n",
    "print(f\"Account statement for {account['name']}: \")\n",
    "if not account['transactions']:\n",
    "print(\"No transactions available.\")\n",
    "else:\n",
    "for transaction in account['transactions']:\n",
    "print(transaction)\n",
    "# Print saved transactions from file\n",
    "print(\"Saved Transactions:\")\n",
    "if os.path.exists(f'{account[\"name\"]}_transactions.txt'):\n",
    "with open(f'{account[\"name\"]}_transactions.txt', 'r') as file:\n",
    "for line in file:\n",
    "print(line.strip())\n",
    "# Testing the banking system\n",
    "if __name__ == \"__main__\":\n",
    "# Create Account\n",
    "user_account = create_account(\"John Doe\")\n",
    "# Perform transactions\n",
    "deposit(user_account, 500)\n",
    "withdraw(user_account, 200)\n",
    "check_balance(user_account)\n",
    "print_statement(user_account)"
   ]
  },
  {
   "cell_type": "code",
   "execution_count": null,
   "id": "5ed1530c-f053-467b-bb7a-b41e361c9429",
   "metadata": {},
   "outputs": [],
   "source": []
  }
 ],
 "metadata": {
  "kernelspec": {
   "display_name": "Python 3 (ipykernel)",
   "language": "python",
   "name": "python3"
  },
  "language_info": {
   "codemirror_mode": {
    "name": "ipython",
    "version": 3
   },
   "file_extension": ".py",
   "mimetype": "text/x-python",
   "name": "python",
   "nbconvert_exporter": "python",
   "pygments_lexer": "ipython3",
   "version": "3.12.7"
  }
 },
 "nbformat": 4,
 "nbformat_minor": 5
}
