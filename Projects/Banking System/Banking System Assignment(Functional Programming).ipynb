{
 "cells": [
  {
   "cell_type": "code",
   "execution_count": null,
   "id": "43de677f-f243-4e00-9c7b-96cd100de916",
   "metadata": {},
   "outputs": [
    {
     "name": "stdout",
     "output_type": "stream",
     "text": [
      "Press 1 if you want to Create Account.\n",
      "Press 2 if you want to Deposit Money in your Account.\n",
      "Press 3 if you want to withdraw Money from your Account.\n",
      "Press 4 if you want to check Balance.\n",
      "Press 5 if you want to see Transactions.\n",
      "Press 0 to Exit\n"
     ]
    },
    {
     "name": "stdin",
     "output_type": "stream",
     "text": [
      "Enter your choice: 1\n",
      "Enter your name: Osaid\n"
     ]
    },
    {
     "name": "stdout",
     "output_type": "stream",
     "text": [
      "Account for OSAID with Account No PK001 created with Balance $0.0.\n",
      "Press 1 if you want to Create Account.\n",
      "Press 2 if you want to Deposit Money in your Account.\n",
      "Press 3 if you want to withdraw Money from your Account.\n",
      "Press 4 if you want to check Balance.\n",
      "Press 5 if you want to see Transactions.\n",
      "Press 0 to Exit\n"
     ]
    },
    {
     "name": "stdin",
     "output_type": "stream",
     "text": [
      "Enter your choice: 2\n",
      "Enter your account number: PK001\n",
      "enter the amount you want to deposit:  5100\n"
     ]
    },
    {
     "name": "stdout",
     "output_type": "stream",
     "text": [
      "Amount Deposit: $5100.0\n",
      "Updated balance: $5100.0\n",
      "Press 1 if you want to Create Account.\n",
      "Press 2 if you want to Deposit Money in your Account.\n",
      "Press 3 if you want to withdraw Money from your Account.\n",
      "Press 4 if you want to check Balance.\n",
      "Press 5 if you want to see Transactions.\n",
      "Press 0 to Exit\n"
     ]
    },
    {
     "name": "stdin",
     "output_type": "stream",
     "text": [
      "Enter your choice: 3\n",
      "Enter your account number: PK001\n",
      "enter the amount you want to withdraw:  3000\n"
     ]
    },
    {
     "name": "stdout",
     "output_type": "stream",
     "text": [
      "Amount withdrawn: $3000.0\n",
      "Updated balance: $2100.0\n",
      "Press 1 if you want to Create Account.\n",
      "Press 2 if you want to Deposit Money in your Account.\n",
      "Press 3 if you want to withdraw Money from your Account.\n",
      "Press 4 if you want to check Balance.\n",
      "Press 5 if you want to see Transactions.\n",
      "Press 0 to Exit\n"
     ]
    },
    {
     "name": "stdin",
     "output_type": "stream",
     "text": [
      "Enter your choice: 4\n",
      "Enter your account number: PK001\n"
     ]
    },
    {
     "name": "stdout",
     "output_type": "stream",
     "text": [
      "The current balance for Account No: PK001 is $2100.0\n",
      "Press 1 if you want to Create Account.\n",
      "Press 2 if you want to Deposit Money in your Account.\n",
      "Press 3 if you want to withdraw Money from your Account.\n",
      "Press 4 if you want to check Balance.\n",
      "Press 5 if you want to see Transactions.\n",
      "Press 0 to Exit\n"
     ]
    },
    {
     "name": "stdin",
     "output_type": "stream",
     "text": [
      "Enter your choice: 5\n",
      "Enter your account number: PK001\n"
     ]
    },
    {
     "name": "stdout",
     "output_type": "stream",
     "text": [
      "Transactions for Account No PK001 are:\n",
      "Deposit: $5100.0\n",
      "Withdrawn: $3000.0\n",
      "Press 1 if you want to Create Account.\n",
      "Press 2 if you want to Deposit Money in your Account.\n",
      "Press 3 if you want to withdraw Money from your Account.\n",
      "Press 4 if you want to check Balance.\n",
      "Press 5 if you want to see Transactions.\n",
      "Press 0 to Exit\n"
     ]
    }
   ],
   "source": [
    "while True:\n",
    "    \n",
    "    print(\"Press 1 if you want to Create Account.\")\n",
    "    print(\"Press 2 if you want to Deposit Money in your Account.\")\n",
    "    print(\"Press 3 if you want to withdraw Money from your Account.\")\n",
    "    print(\"Press 4 if you want to check Balance.\")\n",
    "    print(\"Press 5 if you want to see Transactions.\")\n",
    "    print(\"Press 0 to Exit\")\n",
    "    \n",
    "    number = int(input(\"Enter your choice:\"))\n",
    "    \n",
    "    if number == 1:\n",
    "        name = str(input(\"Enter your name:\")).upper()\n",
    "        if not name.isalpha():  #to check name only contain alphabets\n",
    "            print(\"Invalid name. Only alphabets are allowed.\")  \n",
    "        else:\n",
    "            createAccount(name,accounts,current_id)    \n",
    "    elif number == 2:\n",
    "        account_no = input(\"Enter your account number:\")\n",
    "        depositMoney(account_no)        \n",
    "    elif number == 3:\n",
    "        account_no = input(\"Enter your account number:\")\n",
    "        withdrawMoney(account_no)        \n",
    "    elif number == 4:\n",
    "        account_no = input(\"Enter your account number:\")\n",
    "        checkBalance(account_no)        \n",
    "    elif number == 5:\n",
    "        account_no = input(\"Enter your account number:\")\n",
    "        printTransactions(account_no)        \n",
    "    elif number == 0:\n",
    "        print(\"You have exit the program!\")\n",
    "        break\n",
    "    else:\n",
    "        print(\"Invalid Choice\")\n",
    "        \n",
    "\n",
    "\n",
    "accounts = {}\n",
    "current_id = 0\n",
    "\n",
    "def generateAccountNo(current_id):\n",
    "    prefix = \"PK\"             # start of account \n",
    "    next_number = str(current_id + 1).zfill(3)       # use three digit id but you can increase it by increasing the number in zfill\n",
    "    return prefix + next_number\n",
    "\n",
    "\n",
    "def createAccount(name,accounts,current_id):\n",
    "    if not name.isalpha():                  #to check name only contain alphabets\n",
    "        print(\"Invalid name. Only alphabets are allowed.\")\n",
    "        return\n",
    "    \n",
    "    account_no = generateAccountNo(current_id)\n",
    "    \n",
    "    # making dictionary to save accounts details\n",
    "    account_details = {\n",
    "    \"name\": name,\n",
    "    \"balance\": 0.0,\n",
    "    \"transactions\": []\n",
    "    }\n",
    "    \n",
    "    accounts[account_no] = account_details\n",
    "    print(f\"Account for {account_details['name']} with Account No {account_no} created with Balance $0.0.\")\n",
    "\n",
    "\n",
    "def depositMoney(account_no):\n",
    "    if account_no in accounts:      #checking  the account_no is in accounts dict or not\n",
    "        amount = float(input(\"enter the amount you want to deposit:\"))\n",
    "        try: \n",
    "            if amount < 0:\n",
    "                raise ValueError(\"Negative values are not allowed.\")\n",
    "            elif amount == 0:\n",
    "                raise ValueError (\"Zero value is not allowed\")\n",
    "                \n",
    "            accounts[account_no][\"balance\"] += amount\n",
    "            accounts[account_no][\"transactions\"].append(f\"Deposit: ${amount}\")\n",
    "            print(f\"Amount Deposit: ${amount}\")\n",
    "            print(f\"Updated balance: ${accounts[account_no]['balance']}\")\n",
    "            \n",
    "            with open(\"transactions.txt\", \"a\") as f: \n",
    "                f.write(f\"Account No: {account_no}, Transaction: Deposit, Amount: ${amount}, New Balance: ${accounts[account_no]['balance']}\\n\")\n",
    "        except ValueError as e:\n",
    "            print(\"Error:\", e)\n",
    "    else:\n",
    "        print(f\"Acoount No: {account_no} not found!\")\n",
    "\n",
    "def withdrawMoney(account_no):\n",
    "    if account_no in accounts:        #checking the account_no is in accounts dict or not\n",
    "        amount = float(input(\"enter the amount you want to withdraw:\"))\n",
    "        try:\n",
    "            if amount < 0:\n",
    "                raise ValueError(\"Negative values are not allowed.\")\n",
    "            elif amount == 0:\n",
    "                raise ValueError (\"Zero value is not allowed\")\n",
    "                \n",
    "            if amount > accounts[account_no][\"balance\"]:\n",
    "                print(\"Insufficient balance!\")\n",
    "                return\n",
    "\n",
    "            accounts[account_no][\"balance\"] -= amount\n",
    "            accounts[account_no][\"transactions\"].append(f\"Withdrawn: ${amount}\")\n",
    "            print(f\"Amount withdrawn: ${amount}\")\n",
    "            print(f\"Updated balance: ${accounts[account_no]['balance']}\")\n",
    "            \n",
    "        except ValueError as e:\n",
    "            print(\"Error:\", e)\n",
    "    else:\n",
    "        print(f\"Acoount No: {account_no} not found!\")\n",
    "\n",
    "\n",
    "def checkBalance(account_no):\n",
    "    if account_no in accounts:\n",
    "        print(f\"The Current Balance for Account No: {account_no} is ${accounts[account_no]['balance']}\")\n",
    "    else:\n",
    "        print(\"Invalid account no\")\n",
    "\n",
    "\n",
    "def printTransactions(account_no):\n",
    "    if account_no in accounts:\n",
    "        print(f\"Transactions for Account No {account_no} are:\")\n",
    "                            # transactions may be more than one therefore we use for loop\n",
    "        for transaction in accounts[account_no][\"transactions\"]:\n",
    "            print(transaction)\n",
    "    else:\n",
    "        print(f\"Account No: {account_no} not found!\")"
   ]
  },
  {
   "cell_type": "code",
   "execution_count": null,
   "id": "294f6d00-71b6-4d55-bd9d-f7c235cdd59e",
   "metadata": {},
   "outputs": [],
   "source": []
  }
 ],
 "metadata": {
  "kernelspec": {
   "display_name": "Python 3 (ipykernel)",
   "language": "python",
   "name": "python3"
  },
  "language_info": {
   "codemirror_mode": {
    "name": "ipython",
    "version": 3
   },
   "file_extension": ".py",
   "mimetype": "text/x-python",
   "name": "python",
   "nbconvert_exporter": "python",
   "pygments_lexer": "ipython3",
   "version": "3.12.7"
  }
 },
 "nbformat": 4,
 "nbformat_minor": 5
}
